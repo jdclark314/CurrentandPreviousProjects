{
 "cells": [
  {
   "cell_type": "markdown",
   "metadata": {},
   "source": [
    "# Jamie Clark\n",
    "# CIS 600 Fundamentals of Data and Knowledge Mining\n",
    "# HW4: Artificial Neural Network and Deep Learning\n",
    "\n",
    "## Table of Contents\n",
    "<ul>\n",
    "<li><a href=\"#Exec_Summ\">Exectuive Summary</a></li>\n",
    "<li><a href=\"#Intro\">Introduction</a></li>\n",
    "<li><a href=\"#Data_Prep\">Data Preparation</a></li>\n",
    "<li><a href=\"#Scaling\">Scaling</a></li>\n",
    "    <li><a href=\"#Zero\">Zero Hidden Layers</a></li>\n",
    "<li><a href=\"#One\">One Hidden Layer</a></li>\n",
    "    <li><a href=\"#Two\">Two Hidden Layers</a></li>\n",
    "    <li><a href=\"#DT\">Decision Tree</a></li>\n",
    "    <li><a href=\"#Compare\">Comparison</a></li>\n",
    "    <li><a href=\"#Predict\">Predictions</a></li>\n",
    "    <li><a href=\"#Conclusion\">Conclusion</a></li>\n",
    "</ul>"
   ]
  },
  {
   "cell_type": "markdown",
   "metadata": {
    "ExecuteTime": {
     "end_time": "2020-05-13T23:54:34.707398Z",
     "start_time": "2020-05-13T23:54:34.701392Z"
    }
   },
   "source": [
    "<a id='Exec_Summ'></a>\n",
    "## Executive Summary \n",
    "\n",
    "In this homework assignment, I am going to use multiple artificial nerual networks and deep learning with different architectures to build a disease diagnosis model. It is a binary classification problem to predict whether or not a patient has a certain unspecified disease."
   ]
  },
  {
   "cell_type": "markdown",
   "metadata": {},
   "source": [
    "<a id='Intro'></a>\n",
    "## Introduction \n",
    "\n",
    "I was given a dataset where we will look to determine whether or not a patient has a certain unspecified disease through multiple learning algorithms. In this report, we will prepare the data for each learning algorithm, build, tune and evaluate each different algorithm and end with predicting the results on a second dataset of patients.\n",
    "\n",
    "Let's begin the report by running the different tools that we will need in order to complete the analysis and loading the datasets. We will use pandas and numpy for the bulk of our data analysis tools. We will use sklearn and its functions for machine learning algorithms. Matplotlib and Seaborn will be used to generate any graphs that are necessary for visualizations. We will establish our random seed at 66 so that results can be replicated throughout the report for verification. "
   ]
  },
  {
   "cell_type": "code",
   "execution_count": 1,
   "metadata": {
    "ExecuteTime": {
     "end_time": "2020-06-10T05:18:14.357508Z",
     "start_time": "2020-06-10T05:18:13.258883Z"
    }
   },
   "outputs": [],
   "source": [
    "import pandas as pd\n",
    "import numpy as np\n",
    "from sklearn.tree import DecisionTreeClassifier\n",
    "from sklearn.model_selection import train_test_split, GridSearchCV, cross_val_score, cross_validate, ShuffleSplit, LeaveOneOut\n",
    "from sklearn import metrics\n",
    "# from sklearn import tree #should help visualize tree\n",
    "from sklearn.metrics import confusion_matrix, classification_report\n",
    "from sklearn.preprocessing import StandardScaler\n",
    "from matplotlib import pyplot as plt\n",
    "import matplotlib.ticker as mtick\n",
    "import seaborn as sb\n",
    "%matplotlib inline\n",
    "np.random.seed(66)"
   ]
  },
  {
   "cell_type": "code",
   "execution_count": 3,
   "metadata": {
    "ExecuteTime": {
     "end_time": "2020-06-10T05:18:18.350839Z",
     "start_time": "2020-06-10T05:18:18.346835Z"
    }
   },
   "outputs": [],
   "source": [
    "from keras import models\n",
    "from keras.models import Sequential\n",
    "from keras.layers import Dense\n",
    "from keras.wrappers.scikit_learn import KerasClassifier"
   ]
  },
  {
   "cell_type": "code",
   "execution_count": 4,
   "metadata": {
    "ExecuteTime": {
     "end_time": "2020-06-10T05:18:20.271410Z",
     "start_time": "2020-06-10T05:18:20.268408Z"
    }
   },
   "outputs": [],
   "source": [
    "from sklearn.tree import DecisionTreeClassifier\n",
    "from sklearn import metrics\n",
    "from sklearn import tree #help visualize tree\n",
    "from sklearn.metrics import make_scorer\n",
    "from sklearn.metrics import accuracy_score"
   ]
  },
  {
   "cell_type": "code",
   "execution_count": 5,
   "metadata": {
    "ExecuteTime": {
     "end_time": "2020-06-10T05:18:21.076014Z",
     "start_time": "2020-06-10T05:18:20.991929Z"
    }
   },
   "outputs": [],
   "source": [
    "train = pd.read_csv('Disease Prediction Training.csv')\n",
    "test = pd.read_csv('Disease Prediction Testing.csv')"
   ]
  },
  {
   "cell_type": "markdown",
   "metadata": {},
   "source": [
    "<a id='Data_Prep'></a>\n",
    "## Data Preperation "
   ]
  },
  {
   "cell_type": "markdown",
   "metadata": {},
   "source": [
    "My initial review of the data showed that we have no null values to take care of, which is great for our learning algorithms. However, there are some outlier data points that need to be addressed in the High and Low Blood Pressure columns. We will first take care of those and then move on towards getting all of the data into numerical values."
   ]
  },
  {
   "cell_type": "markdown",
   "metadata": {},
   "source": [
    "For ease of our code, we will first remove the spaces in the High and Low Blood Pressure titles. "
   ]
  },
  {
   "cell_type": "code",
   "execution_count": 6,
   "metadata": {
    "ExecuteTime": {
     "end_time": "2020-06-10T05:18:23.067709Z",
     "start_time": "2020-06-10T05:18:23.061705Z"
    }
   },
   "outputs": [],
   "source": [
    "train.rename(columns={'High Blood Pressure':'HighBloodPressure',\n",
    "                    'Low Blood Pressure':'LowBloodPressure'},\n",
    "           inplace=True)"
   ]
  },
  {
   "cell_type": "markdown",
   "metadata": {},
   "source": [
    "Now let's look at the graph so we can get an understanding of where we'll need to adjust these values."
   ]
  },
  {
   "cell_type": "code",
   "execution_count": 7,
   "metadata": {
    "ExecuteTime": {
     "end_time": "2020-06-10T05:18:23.931586Z",
     "start_time": "2020-06-10T05:18:23.426127Z"
    }
   },
   "outputs": [
    {
     "data": {
      "image/png": "[encoded data removed]",
      "text/plain": [
       "<Figure size 432x288 with 1 Axes>"
      ]
     },
     "metadata": {
      "needs_background": "light"
     },
     "output_type": "display_data"
    }
   ],
   "source": [
    "#train.plt.scatter(x='HighBloodPressure', y='LowBloodPressure')\n",
    "plt.scatter(train.HighBloodPressure, train.LowBloodPressure);"
   ]
  },
  {
   "cell_type": "markdown",
   "metadata": {},
   "source": [
    "Looking at this graph, many values are way outside of livable blood pressure values. We will remove any values that are above 250 for both High and Low blood pressure. In total, this will remove 27 High Blood Pressure rows and 659 Low Blood Pressure rows, roughly 1% of our data. "
   ]
  },
  {
   "cell_type": "code",
   "execution_count": 8,
   "metadata": {
    "ExecuteTime": {
     "end_time": "2020-06-10T05:18:23.946599Z",
     "start_time": "2020-06-10T05:18:23.932587Z"
    }
   },
   "outputs": [],
   "source": [
    "train = train[train.HighBloodPressure <= 250]\n",
    "train = train[train.LowBloodPressure <= 250]"
   ]
  },
  {
   "cell_type": "markdown",
   "metadata": {},
   "source": [
    "Let's verify that everything looks good with our graph now."
   ]
  },
  {
   "cell_type": "code",
   "execution_count": 9,
   "metadata": {
    "ExecuteTime": {
     "end_time": "2020-06-10T05:18:25.055492Z",
     "start_time": "2020-06-10T05:18:24.544026Z"
    }
   },
   "outputs": [
    {
     "data": {
      "image/png": "[encoded data removed]",
      "text/plain": [
       "<Figure size 432x288 with 1 Axes>"
      ]
     },
     "metadata": {
      "needs_background": "light"
     },
     "output_type": "display_data"
    }
   ],
   "source": [
    "plt.scatter(train.HighBloodPressure, train.LowBloodPressure);"
   ]
  },
  {
   "cell_type": "markdown",
   "metadata": {},
   "source": [
    "We have fixed our too high values, but now values that are too low have appeared for High Blood Pressure. Searching for these values we find that there are approximately 146 of them, which we will also now delete. "
   ]
  },
  {
   "cell_type": "code",
   "execution_count": 10,
   "metadata": {
    "ExecuteTime": {
     "end_time": "2020-06-10T05:18:25.065500Z",
     "start_time": "2020-06-10T05:18:25.057493Z"
    }
   },
   "outputs": [],
   "source": [
    "train = train[train.HighBloodPressure >= 75]"
   ]
  },
  {
   "cell_type": "code",
   "execution_count": 11,
   "metadata": {
    "ExecuteTime": {
     "end_time": "2020-06-10T05:18:25.757865Z",
     "start_time": "2020-06-10T05:18:25.249403Z"
    }
   },
   "outputs": [
    {
     "data": {
      "image/png": "[encoded data removed]",
      "text/plain": [
       "<Figure size 432x288 with 1 Axes>"
      ]
     },
     "metadata": {
      "needs_background": "light"
     },
     "output_type": "display_data"
    }
   ],
   "source": [
    "plt.scatter(train.HighBloodPressure, train.LowBloodPressure);"
   ]
  },
  {
   "cell_type": "markdown",
   "metadata": {},
   "source": [
    "Now that our numbers look good, let's address our categorical data. We will be changing 'Female' to 0 and 'Male' to 1. We will also be changing 'Normal' to 0, 'High' to 1 and 'Too High' to 2."
   ]
  },
  {
   "cell_type": "code",
   "execution_count": 12,
   "metadata": {
    "ExecuteTime": {
     "end_time": "2020-06-10T05:18:25.832934Z",
     "start_time": "2020-06-10T05:18:25.758866Z"
    }
   },
   "outputs": [],
   "source": [
    "#female set to 0 and male set to 1\n",
    "train = train.replace('female',0)\n",
    "train = train.replace('male', 1)\n",
    "#normal 0, high 1, too high 2\n",
    "train = train.replace('normal',0)\n",
    "train = train.replace('too high',2)\n",
    "train = train.replace('high',1)"
   ]
  },
  {
   "cell_type": "code",
   "execution_count": 13,
   "metadata": {
    "ExecuteTime": {
     "end_time": "2020-06-10T05:18:25.916010Z",
     "start_time": "2020-06-10T05:18:25.859958Z"
    }
   },
   "outputs": [
    {
     "data": {
      "text/html": [
       "<div>\n",
       "<style scoped>\n",
       "    .dataframe tbody tr th:only-of-type {\n",
       "        vertical-align: middle;\n",
       "    }\n",
       "\n",
       "    .dataframe tbody tr th {\n",
       "        vertical-align: top;\n",
       "    }\n",
       "\n",
       "    .dataframe thead th {\n",
       "        text-align: right;\n",
       "    }\n",
       "</style>\n",
       "<table border=\"1\" class=\"dataframe\">\n",
       "  <thead>\n",
       "    <tr style=\"text-align: right;\">\n",
       "      <th></th>\n",
       "      <th>Age</th>\n",
       "      <th>Gender</th>\n",
       "      <th>Height</th>\n",
       "      <th>Weight</th>\n",
       "      <th>HighBloodPressure</th>\n",
       "      <th>LowBloodPressure</th>\n",
       "      <th>Cholesterol</th>\n",
       "      <th>Glucose</th>\n",
       "      <th>Smoke</th>\n",
       "      <th>Alcohol</th>\n",
       "      <th>Exercise</th>\n",
       "      <th>Disease</th>\n",
       "    </tr>\n",
       "  </thead>\n",
       "  <tbody>\n",
       "    <tr>\n",
       "      <th>count</th>\n",
       "      <td>48168.000000</td>\n",
       "      <td>48168.000000</td>\n",
       "      <td>48168.000000</td>\n",
       "      <td>48168.000000</td>\n",
       "      <td>48168.000000</td>\n",
       "      <td>48168.000000</td>\n",
       "      <td>48168.000000</td>\n",
       "      <td>48168.000000</td>\n",
       "      <td>48168.000000</td>\n",
       "      <td>48168.000000</td>\n",
       "      <td>48168.000000</td>\n",
       "      <td>48168.000000</td>\n",
       "    </tr>\n",
       "    <tr>\n",
       "      <th>mean</th>\n",
       "      <td>52.845354</td>\n",
       "      <td>0.348759</td>\n",
       "      <td>164.370163</td>\n",
       "      <td>74.108687</td>\n",
       "      <td>126.656619</td>\n",
       "      <td>81.351665</td>\n",
       "      <td>0.365076</td>\n",
       "      <td>0.225938</td>\n",
       "      <td>0.088129</td>\n",
       "      <td>0.054061</td>\n",
       "      <td>0.802981</td>\n",
       "      <td>0.495495</td>\n",
       "    </tr>\n",
       "    <tr>\n",
       "      <th>std</th>\n",
       "      <td>6.763391</td>\n",
       "      <td>0.476582</td>\n",
       "      <td>8.196676</td>\n",
       "      <td>14.262047</td>\n",
       "      <td>16.732572</td>\n",
       "      <td>9.852969</td>\n",
       "      <td>0.678819</td>\n",
       "      <td>0.571939</td>\n",
       "      <td>0.283485</td>\n",
       "      <td>0.226140</td>\n",
       "      <td>0.397751</td>\n",
       "      <td>0.499985</td>\n",
       "    </tr>\n",
       "    <tr>\n",
       "      <th>min</th>\n",
       "      <td>29.000000</td>\n",
       "      <td>0.000000</td>\n",
       "      <td>55.000000</td>\n",
       "      <td>11.000000</td>\n",
       "      <td>80.000000</td>\n",
       "      <td>0.000000</td>\n",
       "      <td>0.000000</td>\n",
       "      <td>0.000000</td>\n",
       "      <td>0.000000</td>\n",
       "      <td>0.000000</td>\n",
       "      <td>0.000000</td>\n",
       "      <td>0.000000</td>\n",
       "    </tr>\n",
       "    <tr>\n",
       "      <th>25%</th>\n",
       "      <td>48.000000</td>\n",
       "      <td>0.000000</td>\n",
       "      <td>159.000000</td>\n",
       "      <td>65.000000</td>\n",
       "      <td>120.000000</td>\n",
       "      <td>80.000000</td>\n",
       "      <td>0.000000</td>\n",
       "      <td>0.000000</td>\n",
       "      <td>0.000000</td>\n",
       "      <td>0.000000</td>\n",
       "      <td>1.000000</td>\n",
       "      <td>0.000000</td>\n",
       "    </tr>\n",
       "    <tr>\n",
       "      <th>50%</th>\n",
       "      <td>53.000000</td>\n",
       "      <td>0.000000</td>\n",
       "      <td>165.000000</td>\n",
       "      <td>72.000000</td>\n",
       "      <td>120.000000</td>\n",
       "      <td>80.000000</td>\n",
       "      <td>0.000000</td>\n",
       "      <td>0.000000</td>\n",
       "      <td>0.000000</td>\n",
       "      <td>0.000000</td>\n",
       "      <td>1.000000</td>\n",
       "      <td>0.000000</td>\n",
       "    </tr>\n",
       "    <tr>\n",
       "      <th>75%</th>\n",
       "      <td>58.000000</td>\n",
       "      <td>1.000000</td>\n",
       "      <td>170.000000</td>\n",
       "      <td>82.000000</td>\n",
       "      <td>140.000000</td>\n",
       "      <td>90.000000</td>\n",
       "      <td>1.000000</td>\n",
       "      <td>0.000000</td>\n",
       "      <td>0.000000</td>\n",
       "      <td>0.000000</td>\n",
       "      <td>1.000000</td>\n",
       "      <td>1.000000</td>\n",
       "    </tr>\n",
       "    <tr>\n",
       "      <th>max</th>\n",
       "      <td>64.000000</td>\n",
       "      <td>1.000000</td>\n",
       "      <td>207.000000</td>\n",
       "      <td>200.000000</td>\n",
       "      <td>240.000000</td>\n",
       "      <td>190.000000</td>\n",
       "      <td>2.000000</td>\n",
       "      <td>2.000000</td>\n",
       "      <td>1.000000</td>\n",
       "      <td>1.000000</td>\n",
       "      <td>1.000000</td>\n",
       "      <td>1.000000</td>\n",
       "    </tr>\n",
       "  </tbody>\n",
       "</table>\n",
       "</div>"
      ],
      "text/plain": [
       "                Age        Gender        Height        Weight  \\\n",
       "count  48168.000000  48168.000000  48168.000000  48168.000000   \n",
       "mean      52.845354      0.348759    164.370163     74.108687   \n",
       "std        6.763391      0.476582      8.196676     14.262047   \n",
       "min       29.000000      0.000000     55.000000     11.000000   \n",
       "25%       48.000000      0.000000    159.000000     65.000000   \n",
       "50%       53.000000      0.000000    165.000000     72.000000   \n",
       "75%       58.000000      1.000000    170.000000     82.000000   \n",
       "max       64.000000      1.000000    207.000000    200.000000   \n",
       "\n",
       "       HighBloodPressure  LowBloodPressure   Cholesterol       Glucose  \\\n",
       "count       48168.000000      48168.000000  48168.000000  48168.000000   \n",
       "mean          126.656619         81.351665      0.365076      0.225938   \n",
       "std            16.732572          9.852969      0.678819      0.571939   \n",
       "min            80.000000          0.000000      0.000000      0.000000   \n",
       "25%           120.000000         80.000000      0.000000      0.000000   \n",
       "50%           120.000000         80.000000      0.000000      0.000000   \n",
       "75%           140.000000         90.000000      1.000000      0.000000   \n",
       "max           240.000000        190.000000      2.000000      2.000000   \n",
       "\n",
       "              Smoke       Alcohol      Exercise       Disease  \n",
       "count  48168.000000  48168.000000  48168.000000  48168.000000  \n",
       "mean       0.088129      0.054061      0.802981      0.495495  \n",
       "std        0.283485      0.226140      0.397751      0.499985  \n",
       "min        0.000000      0.000000      0.000000      0.000000  \n",
       "25%        0.000000      0.000000      1.000000      0.000000  \n",
       "50%        0.000000      0.000000      1.000000      0.000000  \n",
       "75%        0.000000      0.000000      1.000000      1.000000  \n",
       "max        1.000000      1.000000      1.000000      1.000000  "
      ]
     },
     "execution_count": 13,
     "metadata": {},
     "output_type": "execute_result"
    }
   ],
   "source": [
    "train.describe()"
   ]
  },
  {
   "cell_type": "markdown",
   "metadata": {},
   "source": [
    "Now that we have a clean dataset, lets create some subsets of this dataset that we can use for training and testing. First we will create a copy of our Train dataset, which will drop the 'Disease' column. We will create another dataframe that will hold the values of the 'Disease' column. Next we will split the data with 70% training and 30% testing. That will have prepared us to enter our algorithm building phase. "
   ]
  },
  {
   "cell_type": "code",
   "execution_count": 14,
   "metadata": {
    "ExecuteTime": {
     "end_time": "2020-06-10T05:18:26.390824Z",
     "start_time": "2020-06-10T05:18:26.371816Z"
    }
   },
   "outputs": [],
   "source": [
    "X = train.copy()\n",
    "X = X.drop(columns=['Disease'])\n",
    "y = train.Disease\n",
    "\n",
    "X_train, X_test, y_train, y_test = train_test_split(X, y, test_size=0.3, random_state=16)"
   ]
  },
  {
   "cell_type": "markdown",
   "metadata": {},
   "source": [
    "<a id='Scaling'></a>\n",
    "## Scaling"
   ]
  },
  {
   "cell_type": "markdown",
   "metadata": {},
   "source": [
    "Now that we have clean data, let's scale the values so that our modeling works as intended. "
   ]
  },
  {
   "cell_type": "code",
   "execution_count": 15,
   "metadata": {
    "ExecuteTime": {
     "end_time": "2020-06-10T05:18:28.120409Z",
     "start_time": "2020-06-10T05:18:28.101393Z"
    }
   },
   "outputs": [],
   "source": [
    "scaler = StandardScaler().fit(X_train)\n",
    "X_train = scaler.transform(X_train)\n",
    "X_test = scaler.transform(X_test)\n"
   ]
  },
  {
   "cell_type": "markdown",
   "metadata": {},
   "source": [
    "Let's create a model with zero hidden layers"
   ]
  },
  {
   "cell_type": "markdown",
   "metadata": {},
   "source": [
    "<a id='Zero'></a>\n",
    "## Zero Hidden Layers"
   ]
  },
  {
   "cell_type": "markdown",
   "metadata": {},
   "source": [
    "Let's make our network with zero hidden layers, just our input and output. From reading, a good rule was to have the input be the number of features in the data. Since we have 11 features, we will start with 11. And since we're classifying, we will only have a single node for the output. \n",
    "\n",
    "We will try three different types of activation functions to see which produces the best accuracy when fit with 10 epochs and 128 batch size. The epochs were choosen to give a decent amount of repititions, but not take too long in processing. "
   ]
  },
  {
   "cell_type": "code",
   "execution_count": 16,
   "metadata": {
    "ExecuteTime": {
     "end_time": "2020-06-10T05:18:31.160380Z",
     "start_time": "2020-06-10T05:18:30.849088Z"
    }
   },
   "outputs": [
    {
     "name": "stdout",
     "output_type": "stream",
     "text": [
      "WARNING:tensorflow:From G:\\anaconda3\\lib\\site-packages\\tensorflow\\python\\ops\\nn_impl.py:180: add_dispatch_support.<locals>.wrapper (from tensorflow.python.ops.array_ops) is deprecated and will be removed in a future version.\n",
      "Instructions for updating:\n",
      "Use tf.where in 2.0, which has the same broadcast rule as np.where\n"
     ]
    }
   ],
   "source": [
    "model_sig = Sequential()\n",
    "model_sig.add(Dense(11, activation='sigmoid', input_shape=(11, )))\n",
    "model_sig.add(Dense(1, activation='sigmoid'))\n",
    "\n",
    "model_tanh = Sequential()\n",
    "model_tanh.add(Dense(11, activation='tanh', input_shape=(11, )))\n",
    "model_tanh.add(Dense(1, activation='tanh'))\n",
    "\n",
    "model_relu = Sequential()\n",
    "model_relu.add(Dense(11, activation='relu', input_shape=(11, )))\n",
    "model_relu.add(Dense(1, activation='relu'))\n",
    "\n",
    "model_sig.compile(loss='binary_crossentropy', optimizer='Adam', metrics=['accuracy'])\n",
    "model_tanh.compile(loss='binary_crossentropy', optimizer='Adam', metrics=['accuracy'])\n",
    "model_relu.compile(loss='binary_crossentropy', optimizer='Adam', metrics=['accuracy'])"
   ]
  },
  {
   "cell_type": "code",
   "execution_count": 24,
   "metadata": {
    "ExecuteTime": {
     "end_time": "2020-06-10T05:19:19.447155Z",
     "start_time": "2020-06-10T05:19:19.444153Z"
    }
   },
   "outputs": [],
   "source": [
    "activation_acc = []\n",
    "#global variable to control verbose outputs\n",
    "verbs = 0"
   ]
  },
  {
   "cell_type": "code",
   "execution_count": 25,
   "metadata": {
    "ExecuteTime": {
     "end_time": "2020-06-10T05:19:20.817224Z",
     "start_time": "2020-06-10T05:19:19.749252Z"
    }
   },
   "outputs": [],
   "source": [
    "check = model_sig.evaluate(X_train, y_train, verbose=verbs)\n",
    "activation_acc.append(check[1])"
   ]
  },
  {
   "cell_type": "code",
   "execution_count": 26,
   "metadata": {
    "ExecuteTime": {
     "end_time": "2020-06-10T05:19:21.961265Z",
     "start_time": "2020-06-10T05:19:20.818224Z"
    }
   },
   "outputs": [],
   "source": [
    "check = model_tanh.evaluate(X_train, y_train, verbose=verbs,)\n",
    "activation_acc.append(check[1])"
   ]
  },
  {
   "cell_type": "code",
   "execution_count": 27,
   "metadata": {
    "ExecuteTime": {
     "end_time": "2020-06-10T05:19:23.079283Z",
     "start_time": "2020-06-10T05:19:21.963267Z"
    }
   },
   "outputs": [],
   "source": [
    "check = model_relu.evaluate(X_train, y_train, verbose=verbs,)\n",
    "activation_acc.append(check[1])"
   ]
  },
  {
   "cell_type": "code",
   "execution_count": 28,
   "metadata": {
    "ExecuteTime": {
     "end_time": "2020-06-10T05:19:23.221413Z",
     "start_time": "2020-06-10T05:19:23.080284Z"
    }
   },
   "outputs": [
    {
     "data": {
      "image/png": "[encoded data removed]",
      "text/plain": [
       "<Figure size 432x288 with 1 Axes>"
      ]
     },
     "metadata": {
      "needs_background": "light"
     },
     "output_type": "display_data"
    }
   ],
   "source": [
    "plt.plot(activation_acc);"
   ]
  },
  {
   "cell_type": "markdown",
   "metadata": {},
   "source": [
    "Based off these values, we're going to stick with the Sigmued activation.\n",
    "\n",
    "Now we will check our compilation parameters. We will stick with the binary_crossentropy loss since we have a binary classification problem on our hands. We will check for improvements to the optimizer. We will loop through and check the accuracy for each optimizer. We will select the highest accuracy optimizer.\n"
   ]
  },
  {
   "cell_type": "code",
   "execution_count": 30,
   "metadata": {
    "ExecuteTime": {
     "end_time": "2020-06-10T05:19:45.944624Z",
     "start_time": "2020-06-10T05:19:37.066752Z"
    }
   },
   "outputs": [],
   "source": [
    "loss_param = []\n",
    "optimizer_param = ['SGD', 'RMSprop', 'Adagrad', 'Adadelta', 'Adam', 'Adamax', 'Nadam']\n",
    "for x in optimizer_param:\n",
    "    model_sig.compile(loss='binary_crossentropy', optimizer=x, metrics=['accuracy'])\n",
    "    hold = model_sig.evaluate(X_train, y_train, verbose=verbs,)\n",
    "    #print(hold)\n",
    "    loss_param.append(hold[1])"
   ]
  },
  {
   "cell_type": "markdown",
   "metadata": {},
   "source": [
    "Let's plot the results."
   ]
  },
  {
   "cell_type": "code",
   "execution_count": 31,
   "metadata": {
    "ExecuteTime": {
     "end_time": "2020-06-10T05:19:47.976397Z",
     "start_time": "2020-06-10T05:19:47.845278Z"
    }
   },
   "outputs": [
    {
     "data": {
      "text/plain": [
       "[<matplotlib.lines.Line2D at 0x2a2dcabdec8>]"
      ]
     },
     "execution_count": 31,
     "metadata": {},
     "output_type": "execute_result"
    },
    {
     "data": {
      "image/png": "[encoded data removed]",
      "text/plain": [
       "<Figure size 432x288 with 1 Axes>"
      ]
     },
     "metadata": {
      "needs_background": "light"
     },
     "output_type": "display_data"
    }
   ],
   "source": [
    "plt.plot(loss_param)"
   ]
  },
  {
   "cell_type": "markdown",
   "metadata": {},
   "source": [
    "It looks like the optimizer does not matter in this case, as they all produced the same results. So let's create our final model for zero hidden layers and fit it. "
   ]
  },
  {
   "cell_type": "code",
   "execution_count": 32,
   "metadata": {
    "ExecuteTime": {
     "end_time": "2020-06-10T05:19:51.726979Z",
     "start_time": "2020-06-10T05:19:51.679928Z"
    }
   },
   "outputs": [],
   "source": [
    "model_zero = Sequential()\n",
    "model_zero.add(Dense(11, activation='sigmoid', input_shape=(11, )))\n",
    "model_zero.add(Dense(1, activation='sigmoid'))"
   ]
  },
  {
   "cell_type": "code",
   "execution_count": 33,
   "metadata": {
    "ExecuteTime": {
     "end_time": "2020-06-10T05:19:58.037850Z",
     "start_time": "2020-06-10T05:19:52.237179Z"
    }
   },
   "outputs": [],
   "source": [
    "model_zero.compile(loss='binary_crossentropy', optimizer='SGD', metrics=['accuracy'])\n",
    "model_zero.fit(X_train, y_train, epochs=10, batch_size=128, verbose=verbs);"
   ]
  },
  {
   "cell_type": "markdown",
   "metadata": {},
   "source": [
    "Now let's predict the results that we will get."
   ]
  },
  {
   "cell_type": "code",
   "execution_count": 34,
   "metadata": {
    "ExecuteTime": {
     "end_time": "2020-06-10T05:19:58.619940Z",
     "start_time": "2020-06-10T05:19:58.253681Z"
    }
   },
   "outputs": [
    {
     "data": {
      "text/plain": [
       "array([[5420, 1831],\n",
       "       [2248, 4952]], dtype=int64)"
      ]
     },
     "execution_count": 34,
     "metadata": {},
     "output_type": "execute_result"
    }
   ],
   "source": [
    "y_pred_zero = model_zero.predict(X_test) >= 0.5\n",
    "confusion_matrix(y_test, y_pred_zero)"
   ]
  },
  {
   "cell_type": "code",
   "execution_count": 35,
   "metadata": {
    "ExecuteTime": {
     "end_time": "2020-06-10T05:19:59.903370Z",
     "start_time": "2020-06-10T05:19:59.879349Z"
    }
   },
   "outputs": [
    {
     "name": "stdout",
     "output_type": "stream",
     "text": [
      "              precision    recall  f1-score   support\n",
      "\n",
      "           0       0.71      0.75      0.73      7251\n",
      "           1       0.73      0.69      0.71      7200\n",
      "\n",
      "    accuracy                           0.72     14451\n",
      "   macro avg       0.72      0.72      0.72     14451\n",
      "weighted avg       0.72      0.72      0.72     14451\n",
      "\n"
     ]
    }
   ],
   "source": [
    "print(classification_report(y_test, y_pred_zero))"
   ]
  },
  {
   "cell_type": "markdown",
   "metadata": {},
   "source": [
    "Not all that great results. Let's see if adding a hidden layer will help. "
   ]
  },
  {
   "cell_type": "markdown",
   "metadata": {
    "ExecuteTime": {
     "end_time": "2020-06-10T03:08:56.755696Z",
     "start_time": "2020-06-10T03:08:56.752693Z"
    }
   },
   "source": [
    "<a id='One'></a>\n",
    "## One Hidden Layer"
   ]
  },
  {
   "cell_type": "markdown",
   "metadata": {},
   "source": [
    "First we will attempt to find a good number of nuerons for the hidden layer. Afterwards we will see what activation function will provide the best results, followed by the optimizer parameter to be selected. \n",
    "\n",
    "We will start our tuning of nuerons by using the sigmoid activation, since it provided the best results in the zero hidden layers predictions. We will search from 1-26 and create an array to hold our values. "
   ]
  },
  {
   "cell_type": "code",
   "execution_count": 36,
   "metadata": {
    "ExecuteTime": {
     "end_time": "2020-06-10T05:20:04.651141Z",
     "start_time": "2020-06-10T05:20:04.648138Z"
    }
   },
   "outputs": [],
   "source": [
    "neurons = range(1,26)\n",
    "acc_param = []"
   ]
  },
  {
   "cell_type": "markdown",
   "metadata": {},
   "source": [
    "Let's run a loop that will check the accuracy for each neuron count. "
   ]
  },
  {
   "cell_type": "code",
   "execution_count": 37,
   "metadata": {
    "ExecuteTime": {
     "end_time": "2020-06-10T05:20:53.408589Z",
     "start_time": "2020-06-10T05:20:08.351336Z"
    }
   },
   "outputs": [],
   "source": [
    "for x in neurons:\n",
    "    #create the model\n",
    "    model_sig = Sequential()\n",
    "    model_sig.add(Dense(11, activation='sigmoid', input_shape=(11, )))\n",
    "    #neurons changed here\n",
    "    model_sig.add(Dense(x, activation='sigmoid'))\n",
    "    model_sig.add(Dense(1, activation='sigmoid'))\n",
    "    \n",
    "    #compile results\n",
    "    model_sig.compile(loss='binary_crossentropy', optimizer='Adam', metrics=['accuracy'])\n",
    "    \n",
    "    #get basic accuracies\n",
    "    check = model_sig.evaluate(X_train, y_train, verbose=verbs)\n",
    "    acc_param.append(check[1])"
   ]
  },
  {
   "cell_type": "markdown",
   "metadata": {},
   "source": [
    "Now let's plot our info. "
   ]
  },
  {
   "cell_type": "code",
   "execution_count": 38,
   "metadata": {
    "ExecuteTime": {
     "end_time": "2020-06-10T05:20:53.526698Z",
     "start_time": "2020-06-10T05:20:53.410597Z"
    }
   },
   "outputs": [
    {
     "data": {
      "image/png": "[encoded data removed]",
      "text/plain": [
       "<Figure size 432x288 with 1 Axes>"
      ]
     },
     "metadata": {
      "needs_background": "light"
     },
     "output_type": "display_data"
    }
   ],
   "source": [
    "plt.plot(acc_param);"
   ]
  },
  {
   "cell_type": "markdown",
   "metadata": {},
   "source": [
    "Let's get the index for the max value, since this may change if we modify any of our data. "
   ]
  },
  {
   "cell_type": "code",
   "execution_count": 39,
   "metadata": {
    "ExecuteTime": {
     "end_time": "2020-06-10T05:20:53.530702Z",
     "start_time": "2020-06-10T05:20:53.527699Z"
    }
   },
   "outputs": [],
   "source": [
    "oneLayerNeuron = np.argmax(acc_param) + 1"
   ]
  },
  {
   "cell_type": "markdown",
   "metadata": {},
   "source": [
    "Now let's compare the activation functions. "
   ]
  },
  {
   "cell_type": "code",
   "execution_count": 40,
   "metadata": {
    "ExecuteTime": {
     "end_time": "2020-06-10T05:20:59.186826Z",
     "start_time": "2020-06-10T05:20:53.531703Z"
    }
   },
   "outputs": [],
   "source": [
    "model_sig = Sequential()\n",
    "model_sig.add(Dense(11, activation='sigmoid', input_shape=(11, )))\n",
    "model_sig.add(Dense(oneLayerNeuron, activation='sigmoid'))\n",
    "model_sig.add(Dense(1, activation='sigmoid'))\n",
    "\n",
    "model_tanh = Sequential()\n",
    "model_tanh.add(Dense(11, activation='tanh', input_shape=(11, )))\n",
    "model_tanh.add(Dense(oneLayerNeuron, activation='tanh'))\n",
    "model_tanh.add(Dense(1, activation='tanh'))\n",
    "\n",
    "model_relu = Sequential()\n",
    "model_relu.add(Dense(11, activation='relu', input_shape=(11, )))\n",
    "model_relu.add(Dense(oneLayerNeuron, activation='relu'))\n",
    "model_relu.add(Dense(1, activation='relu'))\n",
    "\n",
    "model_sig.compile(loss='binary_crossentropy', optimizer='Adam', metrics=['accuracy'])\n",
    "model_tanh.compile(loss='binary_crossentropy', optimizer='Adam', metrics=['accuracy'])\n",
    "model_relu.compile(loss='binary_crossentropy', optimizer='Adam', metrics=['accuracy'])\n",
    "\n",
    "activation_acc = []\n",
    "\n",
    "check = model_sig.evaluate(X_train, y_train, verbose=verbs)\n",
    "activation_acc.append(check[1])\n",
    "check = model_tanh.evaluate(X_train, y_train, verbose=verbs,)\n",
    "activation_acc.append(check[1])\n",
    "check = model_relu.evaluate(X_train, y_train, verbose=verbs,)\n",
    "activation_acc.append(check[1])"
   ]
  },
  {
   "cell_type": "markdown",
   "metadata": {},
   "source": [
    "Now let's plot the results"
   ]
  },
  {
   "cell_type": "code",
   "execution_count": 41,
   "metadata": {
    "ExecuteTime": {
     "end_time": "2020-06-10T05:20:59.328956Z",
     "start_time": "2020-06-10T05:20:59.187827Z"
    }
   },
   "outputs": [
    {
     "data": {
      "image/png": "[encoded data removed]",
      "text/plain": [
       "<Figure size 432x288 with 1 Axes>"
      ]
     },
     "metadata": {
      "needs_background": "light"
     },
     "output_type": "display_data"
    }
   ],
   "source": [
    "plt.plot(activation_acc);"
   ]
  },
  {
   "cell_type": "markdown",
   "metadata": {},
   "source": [
    "It looks like relu is the best accuracy for these, so we will use that in our final predictions. Now let's check our optimizers"
   ]
  },
  {
   "cell_type": "code",
   "execution_count": 42,
   "metadata": {
    "ExecuteTime": {
     "end_time": "2020-06-10T05:21:14.312114Z",
     "start_time": "2020-06-10T05:20:59.329958Z"
    }
   },
   "outputs": [],
   "source": [
    "loss_param = []\n",
    "optimizer_param = ['SGD', 'RMSprop', 'Adagrad', 'Adadelta', 'Adam', 'Adamax', 'Nadam']\n",
    "for x in optimizer_param:\n",
    "    model_relu.compile(loss='binary_crossentropy', optimizer=x, metrics=['accuracy'])\n",
    "    hold = model_relu.evaluate(X_train, y_train, verbose=verbs,)\n",
    "    #print(hold)\n",
    "    loss_param.append(hold[1])"
   ]
  },
  {
   "cell_type": "code",
   "execution_count": 43,
   "metadata": {
    "ExecuteTime": {
     "end_time": "2020-06-10T05:21:14.455243Z",
     "start_time": "2020-06-10T05:21:14.313114Z"
    }
   },
   "outputs": [
    {
     "data": {
      "text/plain": [
       "[<matplotlib.lines.Line2D at 0x2a2e7b32548>]"
      ]
     },
     "execution_count": 43,
     "metadata": {},
     "output_type": "execute_result"
    },
    {
     "data": {
      "image/png": "[encoded data removed]",
      "text/plain": [
       "<Figure size 432x288 with 1 Axes>"
      ]
     },
     "metadata": {
      "needs_background": "light"
     },
     "output_type": "display_data"
    }
   ],
   "source": [
    "plt.plot(loss_param)"
   ]
  },
  {
   "cell_type": "markdown",
   "metadata": {},
   "source": [
    "Again, a straight line that shows there is no difference in these loss values. At least for the data we are currently running. \n",
    "\n",
    "Let's create the final model we will use. "
   ]
  },
  {
   "cell_type": "code",
   "execution_count": 44,
   "metadata": {
    "ExecuteTime": {
     "end_time": "2020-06-10T05:21:24.407815Z",
     "start_time": "2020-06-10T05:21:14.457255Z"
    }
   },
   "outputs": [],
   "source": [
    "model_one = Sequential()\n",
    "model_one.add(Dense(11, activation='relu', input_shape=(11, )))\n",
    "model_one.add(Dense(oneLayerNeuron, activation='relu'))\n",
    "model_one.add(Dense(1, activation='relu'))\n",
    "\n",
    "model_one.compile(loss='binary_crossentropy', optimizer='Adam', metrics=['accuracy'])\n",
    "model_one.fit(X_train, y_train, epochs=10, batch_size=128, verbose=verbs);"
   ]
  },
  {
   "cell_type": "code",
   "execution_count": 45,
   "metadata": {
    "ExecuteTime": {
     "end_time": "2020-06-10T05:21:25.063422Z",
     "start_time": "2020-06-10T05:21:24.409818Z"
    }
   },
   "outputs": [
    {
     "data": {
      "text/plain": [
       "array([[5389, 1862],\n",
       "       [2225, 4975]], dtype=int64)"
      ]
     },
     "execution_count": 45,
     "metadata": {},
     "output_type": "execute_result"
    }
   ],
   "source": [
    "y_pred_one = model_one.predict(X_test) >= 0.5\n",
    "confusion_matrix(y_test, y_pred_one)"
   ]
  },
  {
   "cell_type": "code",
   "execution_count": 46,
   "metadata": {
    "ExecuteTime": {
     "end_time": "2020-06-10T05:21:25.091439Z",
     "start_time": "2020-06-10T05:21:25.065415Z"
    }
   },
   "outputs": [
    {
     "name": "stdout",
     "output_type": "stream",
     "text": [
      "              precision    recall  f1-score   support\n",
      "\n",
      "           0       0.71      0.74      0.73      7251\n",
      "           1       0.73      0.69      0.71      7200\n",
      "\n",
      "    accuracy                           0.72     14451\n",
      "   macro avg       0.72      0.72      0.72     14451\n",
      "weighted avg       0.72      0.72      0.72     14451\n",
      "\n"
     ]
    }
   ],
   "source": [
    "print(classification_report(y_test, y_pred_one))"
   ]
  },
  {
   "cell_type": "markdown",
   "metadata": {},
   "source": [
    "This seems to have gotten worse. Perhaps too many layers overly complicating the problem. "
   ]
  },
  {
   "cell_type": "markdown",
   "metadata": {},
   "source": [
    "<a id='Two'></a>\n",
    "## Two Hidden Layers"
   ]
  },
  {
   "cell_type": "markdown",
   "metadata": {},
   "source": [
    "First we will attempt to find a good number of nuerons for the hidden layer. Afterwards we will see what activation function will provide the best results, followed by the optimizer parameter to be selected. \n",
    "\n",
    "We will start our tuning of nuerons by using the relu activation, since it provided the best results in the one hidden layer predictions. Since we noticed a distinct drop after about 15 in the last layer, let's lower our range to only 15. "
   ]
  },
  {
   "cell_type": "code",
   "execution_count": 47,
   "metadata": {
    "ExecuteTime": {
     "end_time": "2020-06-10T05:21:25.095443Z",
     "start_time": "2020-06-10T05:21:25.092440Z"
    }
   },
   "outputs": [],
   "source": [
    "neurons = range(1,16)\n",
    "acc_param = []"
   ]
  },
  {
   "cell_type": "code",
   "execution_count": 48,
   "metadata": {
    "ExecuteTime": {
     "end_time": "2020-06-10T05:22:05.812530Z",
     "start_time": "2020-06-10T05:21:25.096443Z"
    }
   },
   "outputs": [],
   "source": [
    "for x in neurons:\n",
    "    #create the model\n",
    "    model_sig = Sequential()\n",
    "    model_sig.add(Dense(11, activation='relu', input_shape=(11, )))\n",
    "    #neurons changed here\n",
    "    model_sig.add(Dense(oneLayerNeuron, activation='relu'))\n",
    "    model_sig.add(Dense(x, activation='relu'))\n",
    "    model_sig.add(Dense(1, activation='relu'))\n",
    "\n",
    "    #compile results\n",
    "    model_sig.compile(loss='binary_crossentropy', optimizer='Adam', metrics=['accuracy'])\n",
    "\n",
    "    #get basic accuracies\n",
    "    check = model_sig.evaluate(X_train, y_train, verbose=verbs)\n",
    "    acc_param.append(check[1])"
   ]
  },
  {
   "cell_type": "markdown",
   "metadata": {},
   "source": [
    "Let's plot the results"
   ]
  },
  {
   "cell_type": "code",
   "execution_count": 49,
   "metadata": {
    "ExecuteTime": {
     "end_time": "2020-06-10T05:22:06.170856Z",
     "start_time": "2020-06-10T05:22:05.813531Z"
    }
   },
   "outputs": [
    {
     "data": {
      "image/png": "[encoded data removed]",
      "text/plain": [
       "<Figure size 432x288 with 1 Axes>"
      ]
     },
     "metadata": {
      "needs_background": "light"
     },
     "output_type": "display_data"
    }
   ],
   "source": [
    "plt.plot(acc_param);"
   ]
  },
  {
   "cell_type": "markdown",
   "metadata": {},
   "source": [
    "Let's get the index for the max value, since this may change if we modify any of our data. "
   ]
  },
  {
   "cell_type": "code",
   "execution_count": 50,
   "metadata": {
    "ExecuteTime": {
     "end_time": "2020-06-10T05:22:06.174860Z",
     "start_time": "2020-06-10T05:22:06.171858Z"
    }
   },
   "outputs": [],
   "source": [
    "twoLayerNeuron = np.argmax(acc_param) + 1"
   ]
  },
  {
   "cell_type": "markdown",
   "metadata": {},
   "source": [
    "Now let's compare the activation functions. "
   ]
  },
  {
   "cell_type": "code",
   "execution_count": 51,
   "metadata": {
    "ExecuteTime": {
     "end_time": "2020-06-10T05:22:14.625553Z",
     "start_time": "2020-06-10T05:22:06.176862Z"
    }
   },
   "outputs": [],
   "source": [
    "model_sig = Sequential()\n",
    "model_sig.add(Dense(11, activation='sigmoid', input_shape=(11, )))\n",
    "model_sig.add(Dense(oneLayerNeuron, activation='sigmoid'))\n",
    "model_sig.add(Dense(twoLayerNeuron, activation='sigmoid'))\n",
    "model_sig.add(Dense(1, activation='sigmoid'))\n",
    "\n",
    "model_tanh = Sequential()\n",
    "model_tanh.add(Dense(11, activation='tanh', input_shape=(11, )))\n",
    "model_tanh.add(Dense(oneLayerNeuron, activation='tanh'))\n",
    "model_tanh.add(Dense(twoLayerNeuron, activation='tanh'))\n",
    "model_tanh.add(Dense(1, activation='tanh'))\n",
    "\n",
    "model_relu = Sequential()\n",
    "model_relu.add(Dense(11, activation='relu', input_shape=(11, )))\n",
    "model_relu.add(Dense(oneLayerNeuron, activation='relu'))\n",
    "model_relu.add(Dense(twoLayerNeuron, activation='relu'))\n",
    "model_relu.add(Dense(1, activation='relu'))\n",
    "\n",
    "model_sig.compile(loss='binary_crossentropy', optimizer='Adam', metrics=['accuracy'])\n",
    "model_tanh.compile(loss='binary_crossentropy', optimizer='Adam', metrics=['accuracy'])\n",
    "model_relu.compile(loss='binary_crossentropy', optimizer='Adam', metrics=['accuracy'])\n",
    "\n",
    "activation_acc = []\n",
    "\n",
    "check = model_sig.evaluate(X_train, y_train, verbose=verbs)\n",
    "activation_acc.append(check[1])\n",
    "check = model_tanh.evaluate(X_train, y_train, verbose=verbs,)\n",
    "activation_acc.append(check[1])\n",
    "check = model_relu.evaluate(X_train, y_train, verbose=verbs,)\n",
    "activation_acc.append(check[1])"
   ]
  },
  {
   "cell_type": "markdown",
   "metadata": {},
   "source": [
    "Now let's plot the results"
   ]
  },
  {
   "cell_type": "code",
   "execution_count": 52,
   "metadata": {
    "ExecuteTime": {
     "end_time": "2020-06-10T05:22:14.767683Z",
     "start_time": "2020-06-10T05:22:14.626554Z"
    }
   },
   "outputs": [
    {
     "data": {
      "image/png": "[encoded data removed]",
      "text/plain": [
       "<Figure size 432x288 with 1 Axes>"
      ]
     },
     "metadata": {
      "needs_background": "light"
     },
     "output_type": "display_data"
    }
   ],
   "source": [
    "plt.plot(activation_acc);"
   ]
  },
  {
   "cell_type": "markdown",
   "metadata": {},
   "source": [
    "It looks like relu is the best accuracy for these, so we will use that in our final predictions. Now let's check our optimizers"
   ]
  },
  {
   "cell_type": "code",
   "execution_count": 53,
   "metadata": {
    "ExecuteTime": {
     "end_time": "2020-06-10T05:22:35.931936Z",
     "start_time": "2020-06-10T05:22:14.768683Z"
    }
   },
   "outputs": [
    {
     "name": "stdout",
     "output_type": "stream",
     "text": [
      "[7.62486628328958, 0.5056796073913574]\n",
      "[7.62486628328958, 0.5056796073913574]\n",
      "[7.62486628328958, 0.5056796073913574]\n",
      "[7.62486628328958, 0.5056796073913574]\n",
      "[7.62486628328958, 0.5056796073913574]\n",
      "[7.62486628328958, 0.5056796073913574]\n",
      "[7.62486628328958, 0.5056796073913574]\n"
     ]
    }
   ],
   "source": [
    "loss_param = []\n",
    "optimizer_param = ['SGD', 'RMSprop', 'Adagrad', 'Adadelta', 'Adam', 'Adamax', 'Nadam']\n",
    "for x in optimizer_param:\n",
    "    model_relu.compile(loss='binary_crossentropy', optimizer=x, metrics=['accuracy'])\n",
    "    hold = model_relu.evaluate(X_train, y_train, verbose=verbs,)\n",
    "    #print(hold)\n",
    "    loss_param.append(hold[1])"
   ]
  },
  {
   "cell_type": "code",
   "execution_count": 54,
   "metadata": {
    "ExecuteTime": {
     "end_time": "2020-06-10T05:22:36.061055Z",
     "start_time": "2020-06-10T05:22:35.932938Z"
    }
   },
   "outputs": [
    {
     "data": {
      "text/plain": [
       "[<matplotlib.lines.Line2D at 0x2a2f167ab88>]"
      ]
     },
     "execution_count": 54,
     "metadata": {},
     "output_type": "execute_result"
    },
    {
     "data": {
      "image/png": "[encoded data removed]",
      "text/plain": [
       "<Figure size 432x288 with 1 Axes>"
      ]
     },
     "metadata": {
      "needs_background": "light"
     },
     "output_type": "display_data"
    }
   ],
   "source": [
    "plt.plot(loss_param)"
   ]
  },
  {
   "cell_type": "markdown",
   "metadata": {},
   "source": [
    "Again, a straight line that shows there is no difference in these loss values. At least for the data we are currently running. \n",
    "\n",
    "Let's create the final model we will use. "
   ]
  },
  {
   "cell_type": "code",
   "execution_count": 55,
   "metadata": {
    "ExecuteTime": {
     "end_time": "2020-06-10T05:22:48.508044Z",
     "start_time": "2020-06-10T05:22:36.062055Z"
    }
   },
   "outputs": [],
   "source": [
    "model_two = Sequential()\n",
    "model_two.add(Dense(11, activation='relu', input_shape=(11, )))\n",
    "model_two.add(Dense(oneLayerNeuron, activation='relu'))\n",
    "model_two.add(Dense(twoLayerNeuron, activation='relu'))\n",
    "model_two.add(Dense(1, activation='relu'))\n",
    "\n",
    "model_two.compile(loss='binary_crossentropy', optimizer='Adam', metrics=['accuracy'])\n",
    "model_two.fit(X_train, y_train, epochs=10, batch_size=128, verbose=verbs);"
   ]
  },
  {
   "cell_type": "code",
   "execution_count": 56,
   "metadata": {
    "ExecuteTime": {
     "end_time": "2020-06-10T05:22:49.451968Z",
     "start_time": "2020-06-10T05:22:48.509056Z"
    }
   },
   "outputs": [
    {
     "data": {
      "text/plain": [
       "array([[7251,    0],\n",
       "       [7200,    0]], dtype=int64)"
      ]
     },
     "execution_count": 56,
     "metadata": {},
     "output_type": "execute_result"
    }
   ],
   "source": [
    "y_pred_two = model_two.predict(X_test) >= 0.5\n",
    "confusion_matrix(y_test, y_pred_two)"
   ]
  },
  {
   "cell_type": "code",
   "execution_count": 57,
   "metadata": {
    "ExecuteTime": {
     "end_time": "2020-06-10T05:22:49.490003Z",
     "start_time": "2020-06-10T05:22:49.452968Z"
    }
   },
   "outputs": [
    {
     "name": "stdout",
     "output_type": "stream",
     "text": [
      "              precision    recall  f1-score   support\n",
      "\n",
      "           0       0.50      1.00      0.67      7251\n",
      "           1       0.00      0.00      0.00      7200\n",
      "\n",
      "    accuracy                           0.50     14451\n",
      "   macro avg       0.25      0.50      0.33     14451\n",
      "weighted avg       0.25      0.50      0.34     14451\n",
      "\n"
     ]
    },
    {
     "name": "stderr",
     "output_type": "stream",
     "text": [
      "G:\\anaconda3\\lib\\site-packages\\sklearn\\metrics\\_classification.py:1272: UndefinedMetricWarning: Precision and F-score are ill-defined and being set to 0.0 in labels with no predicted samples. Use `zero_division` parameter to control this behavior.\n",
      "  _warn_prf(average, modifier, msg_start, len(result))\n"
     ]
    }
   ],
   "source": [
    "print(classification_report(y_test, y_pred_two))"
   ]
  },
  {
   "cell_type": "markdown",
   "metadata": {},
   "source": [
    "<a id='DT'></a>\n",
    "## Decision Tree"
   ]
  },
  {
   "cell_type": "markdown",
   "metadata": {},
   "source": [
    "Let's see how things look when compared to the Decision Tree algorithm. First we will find the best hyperparameters"
   ]
  },
  {
   "cell_type": "code",
   "execution_count": 70,
   "metadata": {
    "ExecuteTime": {
     "end_time": "2020-06-10T05:26:19.034685Z",
     "start_time": "2020-06-10T05:25:41.723710Z"
    }
   },
   "outputs": [
    {
     "name": "stdout",
     "output_type": "stream",
     "text": [
      "max_depth\n",
      "max_leaf_nodes\n",
      "min_samples_leaf\n",
      "min_samples_split\n"
     ]
    }
   ],
   "source": [
    "#Generating a count that we can use to adjust the ranges \n",
    "counter = pd.array(range(1,100))\n",
    "#creating a dataframe to hold the results\n",
    "df = pd.DataFrame({'Counts': counter })\n",
    "\n",
    "#array to hold the values to put into the dataframe\n",
    "tableCheck = []\n",
    "\n",
    "#max depth\n",
    "print(\"max_depth\")\n",
    "for i in counter:\n",
    "    clf2 = DecisionTreeClassifier(max_depth=i)\n",
    "    clf2.fit(X_train, y_train)\n",
    "    y_pred = clf2.predict(X_test)\n",
    "    y_pred = np.where(y_pred==True, 1, 0)\n",
    "    tableCheck.append(round(metrics.accuracy_score(y_test, y_pred)*100,2))\n",
    "#     #debug code\n",
    "#     if i % 10 == 0: \n",
    "#         print(i)\n",
    "\n",
    "df['Max_Depth'] = tableCheck\n",
    "tableCheck.clear()\n",
    "\n",
    "#max_leaf_nodes\n",
    "print(\"max_leaf_nodes\")\n",
    "for i in counter:\n",
    "    if i > 1:\n",
    "        clf2 = DecisionTreeClassifier(max_leaf_nodes=i)\n",
    "        clf2.fit(X_train, y_train)\n",
    "        y_pred = clf2.predict(X_test)\n",
    "        y_pred = np.where(y_pred==True, 1, 0)\n",
    "        tableCheck.append(round(metrics.accuracy_score(y_test, y_pred)*100,2))\n",
    "    else:\n",
    "        tableCheck.append(np.NaN)\n",
    "#     #debug code\n",
    "#     if i % 10 == 0:\n",
    "#         print(i)\n",
    "        \n",
    "df['max_leaf_nodes'] = tableCheck\n",
    "tableCheck.clear()\n",
    "\n",
    "#min_samples_leaf\n",
    "print(\"min_samples_leaf\")\n",
    "for i in counter:\n",
    "    clf2 = DecisionTreeClassifier(min_samples_leaf=i)\n",
    "    clf2.fit(X_train, y_train)\n",
    "    y_pred = clf2.predict(X_test)\n",
    "    y_pred = np.where(y_pred==True, 1, 0)\n",
    "    tableCheck.append(round(metrics.accuracy_score(y_test, y_pred)*100,2))\n",
    "    #debug code\n",
    "#     if i % 10 == 0:\n",
    "#         print(i)\n",
    "        \n",
    "df['min_samples_leaf'] = tableCheck\n",
    "tableCheck.clear()\n",
    "\n",
    "#min_samples_split\n",
    "print(\"min_samples_split\")\n",
    "for i in counter:\n",
    "    if i > 1:\n",
    "        clf2 = DecisionTreeClassifier(min_samples_split=i)\n",
    "        clf2.fit(X_train, y_train)\n",
    "        y_pred = clf2.predict(X_test)\n",
    "        y_pred = np.where(y_pred==True, 1, 0)\n",
    "        tableCheck.append(round(metrics.accuracy_score(y_test, y_pred)*100,2))\n",
    "    else:\n",
    "        tableCheck.append(np.NaN)\n",
    "    #debug code\n",
    "#     if i % 10 == 0:\n",
    "#         print(i)\n",
    "        \n",
    "df['min_samples_split'] = tableCheck\n",
    "tableCheck.clear()"
   ]
  },
  {
   "cell_type": "markdown",
   "metadata": {},
   "source": [
    "Let's graph what the results look like"
   ]
  },
  {
   "cell_type": "code",
   "execution_count": 71,
   "metadata": {
    "ExecuteTime": {
     "end_time": "2020-06-10T05:26:19.285905Z",
     "start_time": "2020-06-10T05:26:19.035677Z"
    }
   },
   "outputs": [
    {
     "data": {
      "image/png": "[encoded data removed]",
      "text/plain": [
       "<Figure size 1080x576 with 1 Axes>"
      ]
     },
     "metadata": {
      "needs_background": "light"
     },
     "output_type": "display_data"
    }
   ],
   "source": [
    "#we don't need the Counts column, only used to set correct length of dataframe\n",
    "df = df.drop(columns='Counts')\n",
    "\n",
    "g = df.plot.line(figsize=(15,8),title=\"Accuracies over 100 Values\", grid=True);\n",
    "g.set_xlabel(\"Hyperparameter Values\")\n",
    "g.set_ylabel(\"Accuracy\")\n",
    "g.yaxis.set_major_formatter(mtick.PercentFormatter())"
   ]
  },
  {
   "cell_type": "markdown",
   "metadata": {},
   "source": [
    "Now let's pull out the top 3 values that we should use in our GridSearchCV"
   ]
  },
  {
   "cell_type": "code",
   "execution_count": 72,
   "metadata": {
    "ExecuteTime": {
     "end_time": "2020-06-10T05:26:19.296915Z",
     "start_time": "2020-06-10T05:26:19.287907Z"
    }
   },
   "outputs": [],
   "source": [
    "maxDepth = df['Max_Depth'].nlargest(3).index.values.tolist()\n",
    "maxLeafNodes = df['max_leaf_nodes'].nlargest(3).index.values.tolist()\n",
    "minSamplesLeaf = df['min_samples_leaf'].nlargest(3).index.values.tolist()\n",
    "minSamplesSplit = df['min_samples_split'].nlargest(3).index.values.tolist()\n",
    "\n",
    "#since the index are 0 based, we need to add 1 to get the proper values used\n",
    "maxDepth = np.array(maxDepth) + 1\n",
    "maxLeafNodes = np.array(maxLeafNodes) + 1\n",
    "minSamplesLeaf = np.array(minSamplesLeaf) + 1\n",
    "minSamplesSplit = np.array(minSamplesSplit) + 1"
   ]
  },
  {
   "cell_type": "markdown",
   "metadata": {},
   "source": [
    "Now let's run the GridSearchCV"
   ]
  },
  {
   "cell_type": "code",
   "execution_count": 73,
   "metadata": {
    "ExecuteTime": {
     "end_time": "2020-06-10T05:26:24.447604Z",
     "start_time": "2020-06-10T05:26:19.298916Z"
    }
   },
   "outputs": [
    {
     "data": {
      "text/plain": [
       "GridSearchCV(cv=5, error_score=nan,\n",
       "             estimator=DecisionTreeClassifier(ccp_alpha=0.0, class_weight=None,\n",
       "                                              criterion='gini', max_depth=None,\n",
       "                                              max_features=None,\n",
       "                                              max_leaf_nodes=None,\n",
       "                                              min_impurity_decrease=0.0,\n",
       "                                              min_impurity_split=None,\n",
       "                                              min_samples_leaf=1,\n",
       "                                              min_samples_split=2,\n",
       "                                              min_weight_fraction_leaf=0.0,\n",
       "                                              presort='deprecated',\n",
       "                                              random_state=None,\n",
       "                                              splitter='best'),\n",
       "             iid='deprecated', n_jobs=-1,\n",
       "             param_grid={'criterion': ['gini', 'entropy'],\n",
       "                         'max_depth': array([5, 4, 8]),\n",
       "                         'max_leaf_nodes': array([66, 67, 69]),\n",
       "                         'min_samples_leaf': array([76, 77, 78]),\n",
       "                         'min_samples_split': array([94, 95, 91])},\n",
       "             pre_dispatch='2*n_jobs', refit=True, return_train_score=False,\n",
       "             scoring=None, verbose=0)"
      ]
     },
     "execution_count": 73,
     "metadata": {},
     "output_type": "execute_result"
    }
   ],
   "source": [
    "clf = DecisionTreeClassifier()\n",
    "param_grid = {'criterion': ['gini', 'entropy'],\n",
    "  'min_samples_split': minSamplesSplit,\n",
    "  'max_depth': maxDepth,\n",
    "  'min_samples_leaf': minSamplesLeaf,\n",
    "  'max_leaf_nodes': maxLeafNodes}\n",
    "grid = GridSearchCV(clf, param_grid, cv=5, n_jobs=-1,verbose=0)\n",
    "grid.fit(X_train, y_train)"
   ]
  },
  {
   "cell_type": "markdown",
   "metadata": {},
   "source": [
    "Our best hyperparameter values."
   ]
  },
  {
   "cell_type": "code",
   "execution_count": 74,
   "metadata": {
    "ExecuteTime": {
     "end_time": "2020-06-10T05:26:24.453609Z",
     "start_time": "2020-06-10T05:26:24.448604Z"
    }
   },
   "outputs": [
    {
     "name": "stdout",
     "output_type": "stream",
     "text": [
      "Accuracy: 73.21%\n",
      "Hyperparameter: criterion; Value: gini\n",
      "Hyperparameter: max_depth; Value: 8\n",
      "Hyperparameter: max_leaf_nodes; Value: 66\n",
      "Hyperparameter: min_samples_leaf; Value: 77\n",
      "Hyperparameter: min_samples_split; Value: 94\n"
     ]
    }
   ],
   "source": [
    "print(f\"Accuracy: {round(grid.best_score_*100, 2)}%\")\n",
    "for key, value in grid.best_params_.items():\n",
    "  print(f\"Hyperparameter: {key}; Value: {value}\")"
   ]
  },
  {
   "cell_type": "markdown",
   "metadata": {},
   "source": [
    "Now let's predict"
   ]
  },
  {
   "cell_type": "code",
   "execution_count": 75,
   "metadata": {
    "ExecuteTime": {
     "end_time": "2020-06-10T05:26:24.484638Z",
     "start_time": "2020-06-10T05:26:24.455611Z"
    }
   },
   "outputs": [
    {
     "name": "stdout",
     "output_type": "stream",
     "text": [
      "              precision    recall  f1-score   support\n",
      "\n",
      "           0     0.7062    0.7898    0.7457      7251\n",
      "           1     0.7597    0.6690    0.7115      7200\n",
      "\n",
      "    accuracy                         0.7296     14451\n",
      "   macro avg     0.7329    0.7294    0.7286     14451\n",
      "weighted avg     0.7328    0.7296    0.7286     14451\n",
      "\n"
     ]
    }
   ],
   "source": [
    "y_pred = grid.best_estimator_.predict(X_test)\n",
    "report = classification_report(y_test, y_pred, digits=4)\n",
    "print(report)"
   ]
  },
  {
   "cell_type": "markdown",
   "metadata": {},
   "source": [
    "<a id='Compare'></a>\n",
    "## Comparison"
   ]
  },
  {
   "cell_type": "markdown",
   "metadata": {},
   "source": [
    "Let's see how this compares to the other supervised learning algorithms that we performed in HW3. The time values do not include time to find the hyperparameters. The hyperparameters also do not take into consideration improvements that I learned over the course of doing the final project, like stopping short for Gradient Boosting. "
   ]
  },
  {
   "cell_type": "markdown",
   "metadata": {},
   "source": [
    "| Method | Accuracy | Time | Hyperparameters | \n",
    "| --- | --- | --- | -- |\n",
    "| Gradient Boosting | 73.68% |  265 ms |  criterion=mse, min_samples_split=2, max_depth=11, min_samples_leaf=10, max_leaf_nodes=7, n_estimators=15 |\n",
    "| Decision Tree | 72.9% | 1 s |  criterion=gini, max_depth=5, max_leaf_nodes=15, min_samples_leaf=18, min_samples_split=19 |\n",
    "| ANN0 | 72% | 6.3 s | activation=sigmoid, loss=binary_crossentropy, optimizer=SGD, epochs=10, batch_size=128 |\n",
    "| ANN2 | 72% | 28.5 s | activation=relu, loss=binary_crossentropy, optimizer=SGD, epochs=10, batch_size=128 |\n",
    "| Random Forest | 71.11% |  478 ms | criterion=gini, max_depth=11, max_leaf_nodes=90, min_samples_leaf=17, min_samples_split=74, n_estimators=95 |\n",
    "| Guassian Naive Bayes | 71.09% | 50 ms | None |\n",
    "| ANN1 | 64% | 11.4 s | neurons=13, activation=relu, loss=binary_crossentropy, optimizer=Adam, epochs=10, batch_size=128 |\n",
    "| K Nearest Neighbor | 59.01% | 1.5 s | leaf_size=9, n_neighbors=99 |\n",
    "\n",
    "\n"
   ]
  },
  {
   "cell_type": "markdown",
   "metadata": {
    "ExecuteTime": {
     "end_time": "2020-05-18T01:56:05.820202Z",
     "start_time": "2020-05-18T00:04:06.474Z"
    }
   },
   "source": [
    "<a id='Predict'></a>\n",
    "## Predictions"
   ]
  },
  {
   "cell_type": "markdown",
   "metadata": {},
   "source": [
    "Now we will run our tuned algorithms to predict the classifier. We will do it for each algorithm, combine them into a dataframe and export that dataframe into a csv. "
   ]
  },
  {
   "cell_type": "markdown",
   "metadata": {},
   "source": [
    "Let's do some slight data cleaning first by changing the column names again. Then we will modify the categorical into numerical data just like we did for the training data."
   ]
  },
  {
   "cell_type": "code",
   "execution_count": 76,
   "metadata": {
    "ExecuteTime": {
     "end_time": "2020-06-10T05:26:24.519668Z",
     "start_time": "2020-06-10T05:26:24.485638Z"
    }
   },
   "outputs": [],
   "source": [
    "test = pd.read_csv('Disease Prediction Testing.csv')"
   ]
  },
  {
   "cell_type": "code",
   "execution_count": 77,
   "metadata": {
    "ExecuteTime": {
     "end_time": "2020-06-10T05:26:24.526675Z",
     "start_time": "2020-06-10T05:26:24.521670Z"
    }
   },
   "outputs": [],
   "source": [
    "test.rename(columns={'High Blood Pressure':'HighBloodPressure',\n",
    "                    'Low Blood Pressure':'LowBloodPressure'},\n",
    "           inplace=True)"
   ]
  },
  {
   "cell_type": "code",
   "execution_count": 78,
   "metadata": {
    "ExecuteTime": {
     "end_time": "2020-06-10T05:26:24.569725Z",
     "start_time": "2020-06-10T05:26:24.528677Z"
    }
   },
   "outputs": [],
   "source": [
    "#female set to 0 and male set to 1\n",
    "test = test.replace('female',0)\n",
    "test = test.replace('male', 1)\n",
    "#normal 0, high 1, too high 2\n",
    "test = test.replace('normal',0)\n",
    "test = test.replace('too high',2)\n",
    "test = test.replace('high',1)"
   ]
  },
  {
   "cell_type": "markdown",
   "metadata": {},
   "source": [
    "Now we need to drop the ID columns so that it matches the column length of our previous data. We will move the ID column to our final dataframe. "
   ]
  },
  {
   "cell_type": "code",
   "execution_count": 79,
   "metadata": {
    "ExecuteTime": {
     "end_time": "2020-06-10T05:26:24.581726Z",
     "start_time": "2020-06-10T05:26:24.570726Z"
    }
   },
   "outputs": [],
   "source": [
    "final = pd.DataFrame()\n",
    "final['ID'] = test['ID']\n",
    "test = test.drop(columns=['ID'])"
   ]
  },
  {
   "cell_type": "markdown",
   "metadata": {},
   "source": [
    "Now let's run all the predictions on our test dataframe and store the results."
   ]
  },
  {
   "cell_type": "code",
   "execution_count": 80,
   "metadata": {
    "ExecuteTime": {
     "end_time": "2020-06-10T05:26:26.645614Z",
     "start_time": "2020-06-10T05:26:24.582736Z"
    }
   },
   "outputs": [],
   "source": [
    "DTResults = grid.best_estimator_.predict(test)\n",
    "ANN0Results = model_zero.predict(test)\n",
    "ANN1Results = model_one.predict(test)\n",
    "ANN2Results = model_two.predict(test)"
   ]
  },
  {
   "cell_type": "markdown",
   "metadata": {},
   "source": [
    "Finally, we move the results into our final dataframe and export it to csv for submission. "
   ]
  },
  {
   "cell_type": "code",
   "execution_count": 81,
   "metadata": {
    "ExecuteTime": {
     "end_time": "2020-06-10T05:26:26.756706Z",
     "start_time": "2020-06-10T05:26:26.646615Z"
    }
   },
   "outputs": [],
   "source": [
    "final['DT'] = DTResults\n",
    "final['ANN0'] = ANN0Results\n",
    "final['ANN1'] = ANN1Results\n",
    "final['ANN2'] = ANN2Results\n",
    "final.to_csv('Prediction_Results.csv', index=False)"
   ]
  },
  {
   "cell_type": "markdown",
   "metadata": {},
   "source": [
    "<a id='Conclusion'></a>\n",
    "## Conclusion"
   ]
  },
  {
   "cell_type": "markdown",
   "metadata": {},
   "source": [
    "We have created several neural networks to predict results and compared them to previous algorithms. Tuning the hyperparameters were more of a challenge with this algorithm compared to otheres because I failed to get GridSearchCV to function as intended. I also did not develop an automated way to find locate the best parameters like I did for other features. I would like to find out why the loss functions showed no change on any of my models. "
   ]
  },
  {
   "cell_type": "code",
   "execution_count": null,
   "metadata": {},
   "outputs": [],
   "source": []
  }
 ],
 "metadata": {
  "kernelspec": {
   "display_name": "Python 3",
   "language": "python",
   "name": "python3"
  },
  "language_info": {
   "codemirror_mode": {
    "name": "ipython",
    "version": 3
   },
   "file_extension": ".py",
   "mimetype": "text/x-python",
   "name": "python",
   "nbconvert_exporter": "python",
   "pygments_lexer": "ipython3",
   "version": "3.7.6"
  }
 },
 "nbformat": 4,
 "nbformat_minor": 4
}
