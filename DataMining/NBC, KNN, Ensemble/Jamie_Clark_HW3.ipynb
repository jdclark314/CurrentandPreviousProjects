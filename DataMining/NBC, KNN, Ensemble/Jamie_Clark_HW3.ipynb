{
 "cells": [
  {
   "cell_type": "markdown",
   "metadata": {},
   "source": [
    "# Jamie Clark\n",
    "# CIS 600 Fundamentals of Data and Knowledge Mining\n",
    "# HW3: NBC, KNN and Ensemble Learning\n",
    "\n",
    "## Table of Contents\n",
    "<ul>\n",
    "<li><a href=\"#Exec_Summ\">Exectuive Summary</a></li>\n",
    "<li><a href=\"#Intro\">Introduction</a></li>\n",
    "<li><a href=\"#Data_Prep\">Data Preparation</a></li>\n",
    "<li><a href=\"#NB\">Naive Bayes Classifier</a></li>\n",
    "    <li><a href=\"#KNN\">K Nearest Neighbors</a></li>\n",
    "<li><a href=\"#GBM\">Gradient Boosting Machine</a></li>\n",
    "    <li><a href=\"#Predict\">Predictions</a></li>\n",
    "    <li><a href=\"#Conclusion\">Conclusion</a></li>\n",
    "</ul>"
   ]
  },
  {
   "cell_type": "markdown",
   "metadata": {
    "ExecuteTime": {
     "end_time": "2020-05-13T23:54:34.707398Z",
     "start_time": "2020-05-13T23:54:34.701392Z"
    }
   },
   "source": [
    "<a id='Exec_Summ'></a>\n",
    "## Executive Summary \n",
    "\n",
    "In this homework assignment, I am going to use multiple machine learning algorithms, including naive\n",
    "Bayes classifier, K Nearest Neighbor, Random Forest and Gradient Boosting Classifier to build a disease\n",
    "diagnosis model. It is a binary classification problem to predict whether or not a patient has a certain\n",
    "unspecified disease."
   ]
  },
  {
   "cell_type": "markdown",
   "metadata": {},
   "source": [
    "<a id='Intro'></a>\n",
    "## Introduction \n",
    "\n",
    "I was given a dataset where we will look to determine whether or not a patient has a certain unspecified disease through multiple learning algorithms. In this report, we will prepare the data for each learning algorithm, build, tune and evaluate each different algorithm and end with predicting the results on a second dataset of patients.\n",
    "\n",
    "Let's begin the report by running the different tools that we will need in order to complete the analysis and loading the datasets. We will use pandas and numpy for the bulk of our data analysis tools. We will use sklearn and its functions for machine learning algorithms. Matplotlib and Seaborn will be used to generate any graphs that are necessary for visualizations. We will establish our random seed at 66 so that results can be replicated throughout the report for verification. "
   ]
  },
  {
   "cell_type": "code",
   "execution_count": 1,
   "metadata": {
    "ExecuteTime": {
     "end_time": "2020-05-20T04:02:22.135767Z",
     "start_time": "2020-05-20T04:02:18.682653Z"
    }
   },
   "outputs": [],
   "source": [
    "import pandas as pd\n",
    "import numpy as np\n",
    "from sklearn.tree import DecisionTreeClassifier\n",
    "from sklearn.model_selection import train_test_split, GridSearchCV, cross_val_score, cross_validate, ShuffleSplit, LeaveOneOut\n",
    "from sklearn import metrics\n",
    "from sklearn import tree #should help visualize tree\n",
    "from matplotlib import pyplot as plt\n",
    "import matplotlib.ticker as mtick\n",
    "import seaborn as sb\n",
    "from sklearn.naive_bayes import GaussianNB, BernoulliNB, MultinomialNB, ComplementNB\n",
    "from sklearn.neighbors import KNeighborsClassifier\n",
    "from sklearn.ensemble import RandomForestClassifier\n",
    "from sklearn.ensemble import GradientBoostingClassifier\n",
    "from sklearn.datasets import make_classification\n",
    "%matplotlib inline\n",
    "np.random.seed(66)"
   ]
  },
  {
   "cell_type": "code",
   "execution_count": 2,
   "metadata": {
    "ExecuteTime": {
     "end_time": "2020-05-20T04:02:22.357470Z",
     "start_time": "2020-05-20T04:02:22.139769Z"
    }
   },
   "outputs": [],
   "source": [
    "train = pd.read_csv('Disease Prediction Training.csv')\n",
    "test = pd.read_csv('Disease Prediction Testing.csv')"
   ]
  },
  {
   "cell_type": "markdown",
   "metadata": {},
   "source": [
    "<a id='Data_Prep'></a>\n",
    "## Data Preperation "
   ]
  },
  {
   "cell_type": "markdown",
   "metadata": {},
   "source": [
    "My initial review of the data showed that we have no null values to take care of, which is great for our learning algorithms. However, there are some outlier data points that need to be addressed in the High and Low Blood Pressure columns. We will first take care of those and then move on towards getting all of the data into numerical values."
   ]
  },
  {
   "cell_type": "markdown",
   "metadata": {},
   "source": [
    "For ease of our code, we will first remove the spaces in the High and Low Blood Pressure titles. "
   ]
  },
  {
   "cell_type": "code",
   "execution_count": 3,
   "metadata": {
    "ExecuteTime": {
     "end_time": "2020-05-20T04:02:22.376488Z",
     "start_time": "2020-05-20T04:02:22.362474Z"
    }
   },
   "outputs": [],
   "source": [
    "train.rename(columns={'High Blood Pressure':'HighBloodPressure',\n",
    "                    'Low Blood Pressure':'LowBloodPressure'},\n",
    "           inplace=True)"
   ]
  },
  {
   "cell_type": "markdown",
   "metadata": {},
   "source": [
    "Now let's look at the graph so we can get an understanding of where we'll need to adjust these values."
   ]
  },
  {
   "cell_type": "code",
   "execution_count": 4,
   "metadata": {
    "ExecuteTime": {
     "end_time": "2020-05-20T04:02:23.735729Z",
     "start_time": "2020-05-20T04:02:22.380491Z"
    }
   },
   "outputs": [
    {
     "data": {
      "image/png": "[encoded data removed]",
      "text/plain": [
       "<Figure size 432x288 with 1 Axes>"
      ]
     },
     "metadata": {
      "needs_background": "light"
     },
     "output_type": "display_data"
    }
   ],
   "source": [
    "#train.plt.scatter(x='HighBloodPressure', y='LowBloodPressure')\n",
    "plt.scatter(train.HighBloodPressure, train.LowBloodPressure);"
   ]
  },
  {
   "cell_type": "markdown",
   "metadata": {},
   "source": [
    "Looking at this graph, many values are way outside of livable blood pressure values. We will remove any values that are above 250 for both High and Low blood pressure. In total, this will remove 27 High Blood Pressure rows and 659 Low Blood Pressure rows, roughly 1% of our data. "
   ]
  },
  {
   "cell_type": "code",
   "execution_count": 5,
   "metadata": {
    "ExecuteTime": {
     "end_time": "2020-05-20T04:02:23.768757Z",
     "start_time": "2020-05-20T04:02:23.738728Z"
    }
   },
   "outputs": [],
   "source": [
    "train = train[train.HighBloodPressure <= 250]\n",
    "train = train[train.LowBloodPressure <= 250]"
   ]
  },
  {
   "cell_type": "markdown",
   "metadata": {},
   "source": [
    "Let's verify that everything looks good with our graph now."
   ]
  },
  {
   "cell_type": "code",
   "execution_count": 6,
   "metadata": {
    "ExecuteTime": {
     "end_time": "2020-05-20T04:02:25.019689Z",
     "start_time": "2020-05-20T04:02:23.771761Z"
    }
   },
   "outputs": [
    {
     "data": {
      "image/png": "[encoded data removed]",
      "text/plain": [
       "<Figure size 432x288 with 1 Axes>"
      ]
     },
     "metadata": {
      "needs_background": "light"
     },
     "output_type": "display_data"
    }
   ],
   "source": [
    "plt.scatter(train.HighBloodPressure, train.LowBloodPressure);"
   ]
  },
  {
   "cell_type": "markdown",
   "metadata": {},
   "source": [
    "We have fixed our too high values, but now values that are too low have appeared for High Blood Pressure. Searching for these values we find that there are approximately 146 of them, which we will also now delete. "
   ]
  },
  {
   "cell_type": "code",
   "execution_count": 7,
   "metadata": {
    "ExecuteTime": {
     "end_time": "2020-05-20T04:02:25.044715Z",
     "start_time": "2020-05-20T04:02:25.022693Z"
    }
   },
   "outputs": [],
   "source": [
    "train = train[train.HighBloodPressure >= 75]"
   ]
  },
  {
   "cell_type": "code",
   "execution_count": 8,
   "metadata": {
    "ExecuteTime": {
     "end_time": "2020-05-20T04:02:26.293689Z",
     "start_time": "2020-05-20T04:02:25.050718Z"
    }
   },
   "outputs": [
    {
     "data": {
      "image/png": "[encoded data removed]",
      "text/plain": [
       "<Figure size 432x288 with 1 Axes>"
      ]
     },
     "metadata": {
      "needs_background": "light"
     },
     "output_type": "display_data"
    }
   ],
   "source": [
    "plt.scatter(train.HighBloodPressure, train.LowBloodPressure);"
   ]
  },
  {
   "cell_type": "markdown",
   "metadata": {},
   "source": [
    "Now that our numbers look good, let's address our categorical data. We will be changing 'Female' to 0 and 'Male' to 1. We will also be changing 'Normal' to 0, 'High' to 1 and 'Too High' to 2."
   ]
  },
  {
   "cell_type": "code",
   "execution_count": 9,
   "metadata": {
    "ExecuteTime": {
     "end_time": "2020-05-20T04:02:26.473854Z",
     "start_time": "2020-05-20T04:02:26.298692Z"
    }
   },
   "outputs": [],
   "source": [
    "#female set to 0 and male set to 1\n",
    "train = train.replace('female',0)\n",
    "train = train.replace('male', 1)\n",
    "#normal 0, high 1, too high 2\n",
    "train = train.replace('normal',0)\n",
    "train = train.replace('too high',2)\n",
    "train = train.replace('high',1)"
   ]
  },
  {
   "cell_type": "code",
   "execution_count": 10,
   "metadata": {
    "ExecuteTime": {
     "end_time": "2020-05-20T04:02:26.605975Z",
     "start_time": "2020-05-20T04:02:26.476853Z"
    }
   },
   "outputs": [
    {
     "data": {
      "text/html": [
       "<div>\n",
       "<style scoped>\n",
       "    .dataframe tbody tr th:only-of-type {\n",
       "        vertical-align: middle;\n",
       "    }\n",
       "\n",
       "    .dataframe tbody tr th {\n",
       "        vertical-align: top;\n",
       "    }\n",
       "\n",
       "    .dataframe thead th {\n",
       "        text-align: right;\n",
       "    }\n",
       "</style>\n",
       "<table border=\"1\" class=\"dataframe\">\n",
       "  <thead>\n",
       "    <tr style=\"text-align: right;\">\n",
       "      <th></th>\n",
       "      <th>Age</th>\n",
       "      <th>Gender</th>\n",
       "      <th>Height</th>\n",
       "      <th>Weight</th>\n",
       "      <th>HighBloodPressure</th>\n",
       "      <th>LowBloodPressure</th>\n",
       "      <th>Cholesterol</th>\n",
       "      <th>Glucose</th>\n",
       "      <th>Smoke</th>\n",
       "      <th>Alcohol</th>\n",
       "      <th>Exercise</th>\n",
       "      <th>Disease</th>\n",
       "    </tr>\n",
       "  </thead>\n",
       "  <tbody>\n",
       "    <tr>\n",
       "      <th>count</th>\n",
       "      <td>48168.000000</td>\n",
       "      <td>48168.000000</td>\n",
       "      <td>48168.000000</td>\n",
       "      <td>48168.000000</td>\n",
       "      <td>48168.000000</td>\n",
       "      <td>48168.000000</td>\n",
       "      <td>48168.000000</td>\n",
       "      <td>48168.000000</td>\n",
       "      <td>48168.000000</td>\n",
       "      <td>48168.000000</td>\n",
       "      <td>48168.000000</td>\n",
       "      <td>48168.000000</td>\n",
       "    </tr>\n",
       "    <tr>\n",
       "      <th>mean</th>\n",
       "      <td>52.845354</td>\n",
       "      <td>0.348759</td>\n",
       "      <td>164.370163</td>\n",
       "      <td>74.108687</td>\n",
       "      <td>126.656619</td>\n",
       "      <td>81.351665</td>\n",
       "      <td>0.365076</td>\n",
       "      <td>0.225938</td>\n",
       "      <td>0.088129</td>\n",
       "      <td>0.054061</td>\n",
       "      <td>0.802981</td>\n",
       "      <td>0.495495</td>\n",
       "    </tr>\n",
       "    <tr>\n",
       "      <th>std</th>\n",
       "      <td>6.763391</td>\n",
       "      <td>0.476582</td>\n",
       "      <td>8.196676</td>\n",
       "      <td>14.262047</td>\n",
       "      <td>16.732572</td>\n",
       "      <td>9.852969</td>\n",
       "      <td>0.678819</td>\n",
       "      <td>0.571939</td>\n",
       "      <td>0.283485</td>\n",
       "      <td>0.226140</td>\n",
       "      <td>0.397751</td>\n",
       "      <td>0.499985</td>\n",
       "    </tr>\n",
       "    <tr>\n",
       "      <th>min</th>\n",
       "      <td>29.000000</td>\n",
       "      <td>0.000000</td>\n",
       "      <td>55.000000</td>\n",
       "      <td>11.000000</td>\n",
       "      <td>80.000000</td>\n",
       "      <td>0.000000</td>\n",
       "      <td>0.000000</td>\n",
       "      <td>0.000000</td>\n",
       "      <td>0.000000</td>\n",
       "      <td>0.000000</td>\n",
       "      <td>0.000000</td>\n",
       "      <td>0.000000</td>\n",
       "    </tr>\n",
       "    <tr>\n",
       "      <th>25%</th>\n",
       "      <td>48.000000</td>\n",
       "      <td>0.000000</td>\n",
       "      <td>159.000000</td>\n",
       "      <td>65.000000</td>\n",
       "      <td>120.000000</td>\n",
       "      <td>80.000000</td>\n",
       "      <td>0.000000</td>\n",
       "      <td>0.000000</td>\n",
       "      <td>0.000000</td>\n",
       "      <td>0.000000</td>\n",
       "      <td>1.000000</td>\n",
       "      <td>0.000000</td>\n",
       "    </tr>\n",
       "    <tr>\n",
       "      <th>50%</th>\n",
       "      <td>53.000000</td>\n",
       "      <td>0.000000</td>\n",
       "      <td>165.000000</td>\n",
       "      <td>72.000000</td>\n",
       "      <td>120.000000</td>\n",
       "      <td>80.000000</td>\n",
       "      <td>0.000000</td>\n",
       "      <td>0.000000</td>\n",
       "      <td>0.000000</td>\n",
       "      <td>0.000000</td>\n",
       "      <td>1.000000</td>\n",
       "      <td>0.000000</td>\n",
       "    </tr>\n",
       "    <tr>\n",
       "      <th>75%</th>\n",
       "      <td>58.000000</td>\n",
       "      <td>1.000000</td>\n",
       "      <td>170.000000</td>\n",
       "      <td>82.000000</td>\n",
       "      <td>140.000000</td>\n",
       "      <td>90.000000</td>\n",
       "      <td>1.000000</td>\n",
       "      <td>0.000000</td>\n",
       "      <td>0.000000</td>\n",
       "      <td>0.000000</td>\n",
       "      <td>1.000000</td>\n",
       "      <td>1.000000</td>\n",
       "    </tr>\n",
       "    <tr>\n",
       "      <th>max</th>\n",
       "      <td>64.000000</td>\n",
       "      <td>1.000000</td>\n",
       "      <td>207.000000</td>\n",
       "      <td>200.000000</td>\n",
       "      <td>240.000000</td>\n",
       "      <td>190.000000</td>\n",
       "      <td>2.000000</td>\n",
       "      <td>2.000000</td>\n",
       "      <td>1.000000</td>\n",
       "      <td>1.000000</td>\n",
       "      <td>1.000000</td>\n",
       "      <td>1.000000</td>\n",
       "    </tr>\n",
       "  </tbody>\n",
       "</table>\n",
       "</div>"
      ],
      "text/plain": [
       "                Age        Gender        Height        Weight  \\\n",
       "count  48168.000000  48168.000000  48168.000000  48168.000000   \n",
       "mean      52.845354      0.348759    164.370163     74.108687   \n",
       "std        6.763391      0.476582      8.196676     14.262047   \n",
       "min       29.000000      0.000000     55.000000     11.000000   \n",
       "25%       48.000000      0.000000    159.000000     65.000000   \n",
       "50%       53.000000      0.000000    165.000000     72.000000   \n",
       "75%       58.000000      1.000000    170.000000     82.000000   \n",
       "max       64.000000      1.000000    207.000000    200.000000   \n",
       "\n",
       "       HighBloodPressure  LowBloodPressure   Cholesterol       Glucose  \\\n",
       "count       48168.000000      48168.000000  48168.000000  48168.000000   \n",
       "mean          126.656619         81.351665      0.365076      0.225938   \n",
       "std            16.732572          9.852969      0.678819      0.571939   \n",
       "min            80.000000          0.000000      0.000000      0.000000   \n",
       "25%           120.000000         80.000000      0.000000      0.000000   \n",
       "50%           120.000000         80.000000      0.000000      0.000000   \n",
       "75%           140.000000         90.000000      1.000000      0.000000   \n",
       "max           240.000000        190.000000      2.000000      2.000000   \n",
       "\n",
       "              Smoke       Alcohol      Exercise       Disease  \n",
       "count  48168.000000  48168.000000  48168.000000  48168.000000  \n",
       "mean       0.088129      0.054061      0.802981      0.495495  \n",
       "std        0.283485      0.226140      0.397751      0.499985  \n",
       "min        0.000000      0.000000      0.000000      0.000000  \n",
       "25%        0.000000      0.000000      1.000000      0.000000  \n",
       "50%        0.000000      0.000000      1.000000      0.000000  \n",
       "75%        0.000000      0.000000      1.000000      1.000000  \n",
       "max        1.000000      1.000000      1.000000      1.000000  "
      ]
     },
     "execution_count": 10,
     "metadata": {},
     "output_type": "execute_result"
    }
   ],
   "source": [
    "train.describe()"
   ]
  },
  {
   "cell_type": "markdown",
   "metadata": {},
   "source": [
    "Now that we have a clean dataset, lets create some subsets of this dataset that we can use for training and testing. First we will create a copy of our Train dataset, which will drop the 'Disease' column. We will create another dataframe that will hold the values of the 'Disease' column. Next we will split the data with 70% training and 30% testing. That will have prepared us to enter our algorithm building phase. "
   ]
  },
  {
   "cell_type": "code",
   "execution_count": 11,
   "metadata": {
    "ExecuteTime": {
     "end_time": "2020-05-20T04:02:26.646009Z",
     "start_time": "2020-05-20T04:02:26.608976Z"
    }
   },
   "outputs": [],
   "source": [
    "X = train.copy()\n",
    "X = X.drop(columns=['Disease'])\n",
    "y = train.Disease\n",
    "\n",
    "X_train, X_test, y_train, y_test = train_test_split(X, y, test_size=0.3, random_state=16)"
   ]
  },
  {
   "cell_type": "markdown",
   "metadata": {},
   "source": [
    "<a id='NB'></a>\n",
    "## Naive Bayes Classifier"
   ]
  },
  {
   "cell_type": "markdown",
   "metadata": {},
   "source": [
    "We will start our algorithm create with the Naive Bayes Classifier. Since there are not hyperparameters that can be tuned, we will not be looking to optimize our accuracy of results. Instead we show this section as an example of how the Naive Bayes Classifier works in practice. \n",
    "\n",
    "We will run the algorithms in this order GuassianNB, BernoulliNB, MultinominalNB and GuassianNB with priors. The priors were calculated to be 49.5% 1s and the remainder 0s. At the end we will summarize the accuracies produced by all of these results. The algorithm with the highest accuracy will be used to predict the unknown dataset. \n",
    "\n",
    "Each algorithm will run with four lines of code that does the following:\n",
    "1. Run the algorithm\n",
    "2. Fit the algorithm to the data\n",
    "3. Predict the values form the test set\n",
    "4. Set a variable to hold the accuracy for later usage"
   ]
  },
  {
   "cell_type": "code",
   "execution_count": 12,
   "metadata": {
    "ExecuteTime": {
     "end_time": "2020-05-20T04:02:26.847103Z",
     "start_time": "2020-05-20T04:02:26.649012Z"
    }
   },
   "outputs": [],
   "source": [
    "gnb = GaussianNB()\n",
    "gnb.fit(X_train,y_train)\n",
    "gnb_pred = gnb.predict(X_test)\n",
    "gnb_acc = round(metrics.accuracy_score(y_test, gnb_pred)*100, 2)\n",
    "\n",
    "bnb = BernoulliNB()\n",
    "bnb.fit(X_train,y_train)\n",
    "bnb_pred = bnb.predict(X_test)\n",
    "bnb_acc = round(metrics.accuracy_score(y_test, bnb_pred)*100, 2)\n",
    "\n",
    "mnb = MultinomialNB()\n",
    "mnb.fit(X_train,y_train)\n",
    "mnb_pred = mnb.predict(X_test)\n",
    "mnb_acc = round(metrics.accuracy_score(y_test, mnb_pred)*100, 2)\n",
    "\n",
    "gnbp = GaussianNB(priors=[.49,.51])\n",
    "gnbp.fit(X_train,y_train)\n",
    "gnbp_pred = gnbp.predict(X_test)\n",
    "gnbp_acc = round(metrics.accuracy_score(y_test, gnbp_pred)*100, 2)"
   ]
  },
  {
   "cell_type": "markdown",
   "metadata": {
    "variables": {
     "bnb_acc": "59.01",
     "gnb_acc": "71.09",
     "gnbp_acc": "71.21",
     "mnb_acc": "71.11"
    }
   },
   "source": [
    "| Method | Accuracy | Priors | \n",
    "| --- | --- | --- |\n",
    "| Guassian | {{gnb_acc}}% | None |\n",
    "| Bernoulli | {{bnb_acc}}% | None |\n",
    "| Multinomial | {{mnb_acc}}% | None |\n",
    "| Guassian w/ Priors | {{gnbp_acc}}% | .49/.51 |"
   ]
  },
  {
   "cell_type": "markdown",
   "metadata": {},
   "source": [
    "There are a lot of similarities between the methods, but what surprised me was that the Bernoulli method was significantly lower than the others. I was also surprised that the priors seemed to have no effect on the accuracy, but that is probably because the priors are based on the data results and not previously found results.  \n",
    "\n",
    "In the end it looks like Guassian will be the one to be in the final csv for predicting results. "
   ]
  },
  {
   "cell_type": "markdown",
   "metadata": {},
   "source": [
    "<a id='KNN'></a>\n",
    "## K Nearest Neighbors"
   ]
  },
  {
   "cell_type": "markdown",
   "metadata": {},
   "source": [
    "Now we're going to move to the K Nearest Neighbors algorithm. We will first show the algorithm with the default sklearn settings. Once we have those values, we will search to find the best hyperparameters that we should use and plot the accuracies. We will use the best of each hyperparameter to find the accuracy and move that value to the prediction of the results. The one hyperparameter that will remain constant, for efficiency, is n_jobs at -1 so that all of my CPU cores are utilized. "
   ]
  },
  {
   "cell_type": "code",
   "execution_count": 13,
   "metadata": {
    "ExecuteTime": {
     "end_time": "2020-05-20T04:02:29.194014Z",
     "start_time": "2020-05-20T04:02:26.906730Z"
    }
   },
   "outputs": [],
   "source": [
    "neigh = KNeighborsClassifier(n_jobs=-1)\n",
    "neigh.fit(X_train,y_train)\n",
    "neigh_pred = neigh.predict(X_test)\n",
    "neigh_default_acc = round(metrics.accuracy_score(y_test, neigh_pred)*100, 2)"
   ]
  },
  {
   "cell_type": "markdown",
   "metadata": {
    "variables": {
     "neigh_default_acc": "68.73"
    }
   },
   "source": [
    "The default accuracy produced {{neigh_default_acc}}%, which is a lot lower than what we received for the Nayes Bayes Classifier. Let's tune the hyperparameters and see if we can increase this accuracy. \n",
    "\n",
    "We will take each of the one hyper parameters and perform the KNeighborsClassifier function from 1 through 251. These will be placed into a dataframe and used to plot later on. "
   ]
  },
  {
   "cell_type": "code",
   "execution_count": 14,
   "metadata": {
    "ExecuteTime": {
     "end_time": "2020-05-20T04:11:15.845633Z",
     "start_time": "2020-05-20T04:02:29.208026Z"
    }
   },
   "outputs": [],
   "source": [
    "#value to ensure all counters are the same length for each algorithm\n",
    "length = 100\n",
    "\n",
    "#Generating a count that we can use to adjust the ranges \n",
    "counter = pd.array(range(1,length))\n",
    "#creating a dataframe to hold the results\n",
    "df = pd.DataFrame({'Counts': counter })\n",
    "\n",
    "#array to hold the values to put into the dataframe\n",
    "tableCheck = []\n",
    "\n",
    "#leaf size\n",
    "# print(\"leaf_size\")\n",
    "for i in counter:\n",
    "    clf2 = KNeighborsClassifier(leaf_size=i, n_jobs=-1)\n",
    "    clf2.fit(X_train, y_train)\n",
    "    y_pred = clf2.predict(X_test)\n",
    "    y_pred = np.where(y_pred==True, 1, 0)\n",
    "    tableCheck.append(round(metrics.accuracy_score(y_test, y_pred)*100,2))\n",
    "#     print(i)\n",
    "    \n",
    "df['leaf_size'] = tableCheck\n",
    "tableCheck.clear()\n",
    "\n",
    "#n_neighbords\n",
    "# print(\"n_neighbors\")\n",
    "for i in counter:\n",
    "    clf2 = KNeighborsClassifier(n_neighbors=i, n_jobs=-1)\n",
    "    clf2.fit(X_train, y_train)\n",
    "    y_pred = clf2.predict(X_test)\n",
    "    y_pred = np.where(y_pred==True, 1, 0)\n",
    "    tableCheck.append(round(metrics.accuracy_score(y_test, y_pred)*100,2))\n",
    "#     print(i)\n",
    "    \n",
    "df['n_neighbors'] = tableCheck\n",
    "tableCheck.clear()"
   ]
  },
  {
   "cell_type": "markdown",
   "metadata": {},
   "source": [
    "Now that we've added all the accuracies, let's add them to a graph so that we can visually represent them."
   ]
  },
  {
   "cell_type": "code",
   "execution_count": 15,
   "metadata": {
    "ExecuteTime": {
     "end_time": "2020-05-20T04:11:16.363103Z",
     "start_time": "2020-05-20T04:11:15.848634Z"
    }
   },
   "outputs": [
    {
     "data": {
      "image/png": "[encoded data removed]",
      "text/plain": [
       "<Figure size 1080x576 with 1 Axes>"
      ]
     },
     "metadata": {
      "needs_background": "light"
     },
     "output_type": "display_data"
    }
   ],
   "source": [
    "df = df.drop(columns='Counts')\n",
    "g = df.plot.line(figsize=(15,8),title=\"K Nearest Neighbors Accuracies over 100 Values\", grid=True);\n",
    "g.set_xlabel(\"Hyperparameter Values\")\n",
    "g.set_ylabel(\"Accuracy\")\n",
    "g.yaxis.set_major_formatter(mtick.PercentFormatter())"
   ]
  },
  {
   "cell_type": "markdown",
   "metadata": {},
   "source": [
    "The graph shows some interesting trends in the accuracies, but we're really interested in optimizing the entire algorithm. Let's choose the top five values in each hyperparameter and use those in a GridSearchCV in hopes that we can find a combination of the best that will create the best tuned algorithm for our purposes. As a printed check, we'll see what each hyperparameter value came out to be and our expected accuracy with these results. "
   ]
  },
  {
   "cell_type": "code",
   "execution_count": 16,
   "metadata": {
    "ExecuteTime": {
     "end_time": "2020-05-20T04:12:30.004535Z",
     "start_time": "2020-05-20T04:11:16.367106Z"
    }
   },
   "outputs": [
    {
     "name": "stdout",
     "output_type": "stream",
     "text": [
      "Accuracy: 72.27%\n",
      "Hyperparameter: leaf_size; Value: 9\n",
      "Hyperparameter: n_neighbors; Value: 99\n"
     ]
    }
   ],
   "source": [
    "maxLeafSize = df['leaf_size'].nlargest(5).index.values.tolist()\n",
    "maxNeighbors = df['n_neighbors'].nlargest(5).index.values.tolist()\n",
    "#since the index are 0 based, we need to add 1 to get the proper values used\n",
    "maxLeafSize = np.array(maxLeafSize) + 1\n",
    "maxNeighbors = np.array(maxNeighbors) + 1\n",
    "\n",
    "#we change the dict to match the parameters we are looking for in the estimator that is used\n",
    "param_grid = {'leaf_size': maxLeafSize,\n",
    "  'n_neighbors': maxNeighbors,}\n",
    "grid = GridSearchCV(neigh, param_grid, cv=5, n_jobs=-1)\n",
    "grid.fit(X_train, y_train)\n",
    "\n",
    "print(f\"Accuracy: {round(grid.best_score_*100, 2)}%\")\n",
    "for key, value in grid.best_params_.items():\n",
    "  print(f\"Hyperparameter: {key}; Value: {value}\")"
   ]
  },
  {
   "cell_type": "markdown",
   "metadata": {},
   "source": [
    "Now we're going to add these values to an array that we can use to access them throughout the rest of the report. This will prevent us from hard coding values that may change if we change the sample test size. "
   ]
  },
  {
   "cell_type": "code",
   "execution_count": 17,
   "metadata": {
    "ExecuteTime": {
     "end_time": "2020-05-20T04:12:30.024698Z",
     "start_time": "2020-05-20T04:12:30.006565Z"
    }
   },
   "outputs": [],
   "source": [
    "best_neigh = []\n",
    "for key, value in grid.best_params_.items():\n",
    "    best_neigh.append(value)"
   ]
  },
  {
   "cell_type": "markdown",
   "metadata": {},
   "source": [
    "Now the final step to actually rerun the algorithm with the tuned hyperparameters. "
   ]
  },
  {
   "cell_type": "code",
   "execution_count": 18,
   "metadata": {
    "ExecuteTime": {
     "end_time": "2020-05-20T04:12:33.822661Z",
     "start_time": "2020-05-20T04:12:30.034766Z"
    }
   },
   "outputs": [],
   "source": [
    "neigh_tuned = KNeighborsClassifier(n_jobs=-1, leaf_size=best_neigh[0], n_neighbors=best_neigh[1])\n",
    "neigh_tuned.fit(X_train,y_train)\n",
    "neigh_tuned_pred = neigh_tuned.predict(X_test)\n",
    "neigh_tuned_acc = round(metrics.accuracy_score(y_test, neigh_tuned_pred)*100, 2)"
   ]
  },
  {
   "cell_type": "markdown",
   "metadata": {
    "variables": {
     "neigh_tuned_acc": "72.31"
    }
   },
   "source": [
    "So we did get a slight improvement on accuracy up to {{neigh_tuned_acc}}%. We will be using these hyperparameters and this setting for our predictions. "
   ]
  },
  {
   "cell_type": "markdown",
   "metadata": {},
   "source": [
    "<a id='RF'></a>\n",
    "## Random Forest"
   ]
  },
  {
   "cell_type": "markdown",
   "metadata": {},
   "source": [
    "The next algorithm that we're going to go to is the Random Forest. We will replicate what we did for the K Nearest Neighbors and start with the default Random Forest function, find the best hyperparameters and then compare the increase of the accuracy. "
   ]
  },
  {
   "cell_type": "code",
   "execution_count": 19,
   "metadata": {
    "ExecuteTime": {
     "end_time": "2020-05-20T04:12:35.625548Z",
     "start_time": "2020-05-20T04:12:33.842962Z"
    }
   },
   "outputs": [],
   "source": [
    "rfor = RandomForestClassifier(n_jobs=-1)\n",
    "rfor.fit(X_train,y_train)\n",
    "rfor_pred = rfor.predict(X_test)\n",
    "rfor_default_acc = round(metrics.accuracy_score(y_test, rfor_pred)*100, 2)"
   ]
  },
  {
   "cell_type": "markdown",
   "metadata": {
    "variables": {
     "rfor_default_acc": "71.15"
    }
   },
   "source": [
    "The default accuracy shown here is {{rfor_default_acc}}%. Let's see how much we can improve that by tuning our hyperparameters. We will use a similar process as the K Nearest Neighbors by finding the best numbers for each hyperparameter and combining them.  "
   ]
  },
  {
   "cell_type": "code",
   "execution_count": 39,
   "metadata": {
    "ExecuteTime": {
     "end_time": "2020-05-20T13:30:47.506051Z",
     "start_time": "2020-05-20T13:21:53.819827Z"
    }
   },
   "outputs": [],
   "source": [
    "#n_estimators, max_depth, min_samples_split, min_samples_leaf, max_leaf_nodes\n",
    "#Generating a count that we can use to adjust the ranges \n",
    "counter = pd.array(range(1,length))\n",
    "#creating a dataframe to hold the results\n",
    "df = pd.DataFrame({'Counts': counter })\n",
    "\n",
    "#array to hold the values to put into the dataframe\n",
    "tableCheck = []\n",
    "\n",
    "#max depth\n",
    "# print(\"max_depth\")\n",
    "for i in counter:\n",
    "    clf2 = RandomForestClassifier(max_depth=i, n_jobs=-1)\n",
    "    clf2.fit(X_train, y_train)\n",
    "    y_pred = clf2.predict(X_test)\n",
    "    y_pred = np.where(y_pred==True, 1, 0)\n",
    "    tableCheck.append(round(metrics.accuracy_score(y_test, y_pred)*100,2))\n",
    "#     #debug code\n",
    "#     if i % 10 == 0: \n",
    "#         print(i)\n",
    "\n",
    "df['Max_Depth'] = tableCheck\n",
    "tableCheck.clear()\n",
    "\n",
    "#max_leaf_nodes\n",
    "# print(\"max_leaf_nodes\")\n",
    "for i in counter:\n",
    "    if i > 1:\n",
    "        clf2 = RandomForestClassifier(max_leaf_nodes=i, n_jobs=-1)\n",
    "        clf2.fit(X_train, y_train)\n",
    "        y_pred = clf2.predict(X_test)\n",
    "        y_pred = np.where(y_pred==True, 1, 0)\n",
    "        tableCheck.append(round(metrics.accuracy_score(y_test, y_pred)*100,2))\n",
    "    else:\n",
    "        tableCheck.append(np.NaN)\n",
    "#     #debug code\n",
    "#     if i % 10 == 0:\n",
    "#         print(i)\n",
    "        \n",
    "df['max_leaf_nodes'] = tableCheck\n",
    "tableCheck.clear()\n",
    "\n",
    "#min_samples_leaf\n",
    "# print(\"min_samples_leaf\")\n",
    "for i in counter:\n",
    "    clf2 = RandomForestClassifier(min_samples_leaf=i, n_jobs=-1)\n",
    "    clf2.fit(X_train, y_train)\n",
    "    y_pred = clf2.predict(X_test)\n",
    "    y_pred = np.where(y_pred==True, 1, 0)\n",
    "    tableCheck.append(round(metrics.accuracy_score(y_test, y_pred)*100,2))\n",
    "    #debug code\n",
    "#     if i % 10 == 0:\n",
    "#         print(i)\n",
    "        \n",
    "df['min_samples_leaf'] = tableCheck\n",
    "tableCheck.clear()\n",
    "\n",
    "#min_samples_split\n",
    "# print(\"min_samples_split\")\n",
    "for i in counter:\n",
    "    if i > 1:\n",
    "        clf2 = RandomForestClassifier(min_samples_split=i, n_jobs=-1)\n",
    "        clf2.fit(X_train, y_train)\n",
    "        y_pred = clf2.predict(X_test)\n",
    "        y_pred = np.where(y_pred==True, 1, 0)\n",
    "        tableCheck.append(round(metrics.accuracy_score(y_test, y_pred)*100,2))\n",
    "    else:\n",
    "        tableCheck.append(np.NaN)\n",
    "    #debug code\n",
    "#     if i % 10 == 0:\n",
    "#         print(i)\n",
    "        \n",
    "df['min_samples_split'] = tableCheck\n",
    "tableCheck.clear()\n",
    "\n",
    "#min_samples_leaf\n",
    "# print(\"n_estimators\")\n",
    "for i in counter:\n",
    "    clf2 = RandomForestClassifier(n_estimators=i, n_jobs=-1)\n",
    "    clf2.fit(X_train, y_train)\n",
    "    y_pred = clf2.predict(X_test)\n",
    "    y_pred = np.where(y_pred==True, 1, 0)\n",
    "    tableCheck.append(round(metrics.accuracy_score(y_test, y_pred)*100,2))\n",
    "    #debug code\n",
    "#     if i % 10 == 0:\n",
    "#         print(i)\n",
    "        \n",
    "df['n_estimators'] = tableCheck\n",
    "tableCheck.clear()"
   ]
  },
  {
   "cell_type": "markdown",
   "metadata": {},
   "source": [
    "Just to understand how these accuracies vary, let's take a look at the graph. "
   ]
  },
  {
   "cell_type": "code",
   "execution_count": 40,
   "metadata": {
    "ExecuteTime": {
     "end_time": "2020-05-20T13:30:48.092583Z",
     "start_time": "2020-05-20T13:30:47.510054Z"
    }
   },
   "outputs": [
    {
     "data": {
      "image/png": "[encoded data removed]",
      "text/plain": [
       "<Figure size 1080x576 with 1 Axes>"
      ]
     },
     "metadata": {
      "needs_background": "light"
     },
     "output_type": "display_data"
    }
   ],
   "source": [
    "df = df.drop(columns='Counts')\n",
    "g = df.plot.line(figsize=(15,8),title=\"Random Forest Classifier Accuracies over 100 Values\", grid=True);\n",
    "g.set_xlabel(\"Hyperparameter Values\")\n",
    "g.set_ylabel(\"Accuracy\")\n",
    "g.yaxis.set_major_formatter(mtick.PercentFormatter())"
   ]
  },
  {
   "cell_type": "markdown",
   "metadata": {},
   "source": [
    "It's nice to see visually what this information looks like, but we really need the numbers programmatically for them to work well. Let's find the five largest values of accuracy for each hyperparameter and compare these together with the GridSearchCV function in order to find the best hyperparameters to use. At the bottom, we will print out the selection of hyperparameters, just for visual refernce of the report. "
   ]
  },
  {
   "cell_type": "code",
   "execution_count": 22,
   "metadata": {
    "ExecuteTime": {
     "end_time": "2020-05-20T07:08:22.869641Z",
     "start_time": "2020-05-20T04:21:54.445434Z"
    }
   },
   "outputs": [
    {
     "name": "stdout",
     "output_type": "stream",
     "text": [
      "Accuracy: 73.64%\n",
      "Hyperparameter: criterion; Value: gini\n",
      "Hyperparameter: max_depth; Value: 13\n",
      "Hyperparameter: max_leaf_nodes; Value: 86\n",
      "Hyperparameter: min_samples_leaf; Value: 18\n",
      "Hyperparameter: min_samples_split; Value: 94\n",
      "Hyperparameter: n_estimators; Value: 97\n"
     ]
    }
   ],
   "source": [
    "maxDepth = df['Max_Depth'].nlargest(5).index.values.tolist()\n",
    "maxLeafNodes = df['max_leaf_nodes'].nlargest(5).index.values.tolist()\n",
    "minSamplesLeaf = df['min_samples_leaf'].nlargest(5).index.values.tolist()\n",
    "minSamplesSplit = df['min_samples_split'].nlargest(5).index.values.tolist()\n",
    "n_estimators = df['n_estimators'].nlargest(5).index.values.tolist()\n",
    "\n",
    "#since the index are 0 based, we need to add 1 to get the proper values used\n",
    "maxDepth = np.array(maxDepth) + 1\n",
    "maxLeafNodes = np.array(maxLeafNodes) + 1\n",
    "minSamplesLeaf = np.array(minSamplesLeaf) + 1\n",
    "minSamplesSplit = np.array(minSamplesSplit) + 1\n",
    "n_estimators = np.array(n_estimators) + 1\n",
    "\n",
    "param_grid = {'criterion': ['gini', 'entropy'],\n",
    "  'min_samples_split': minSamplesSplit,\n",
    "  'max_depth': maxDepth,\n",
    "  'min_samples_leaf': minSamplesLeaf,\n",
    "  'max_leaf_nodes': maxLeafNodes,\n",
    "  'n_estimators': n_estimators}\n",
    "grid = GridSearchCV(rfor, param_grid, cv=5, n_jobs=-1)\n",
    "grid.fit(X_train, y_train)\n",
    "\n",
    "\n",
    "print(f\"Accuracy: {round(grid.best_score_*100, 2)}%\")\n",
    "for key, value in grid.best_params_.items():\n",
    "  print(f\"Hyperparameter: {key}; Value: {value}\")"
   ]
  },
  {
   "cell_type": "markdown",
   "metadata": {},
   "source": [
    "Let's take these values and place them in an array so that we can continue to reference them throughout the rest of the report programmatically. "
   ]
  },
  {
   "cell_type": "code",
   "execution_count": 23,
   "metadata": {
    "ExecuteTime": {
     "end_time": "2020-05-20T07:08:22.878650Z",
     "start_time": "2020-05-20T07:08:22.872644Z"
    }
   },
   "outputs": [],
   "source": [
    "best_rfor = []\n",
    "for key, value in grid.best_params_.items():\n",
    "    best_rfor.append(value)"
   ]
  },
  {
   "cell_type": "markdown",
   "metadata": {},
   "source": [
    "Now that we have the best hyperparameters, let's run the Random Forest Classifier again. This will be the parameters used to predict our final results. "
   ]
  },
  {
   "cell_type": "code",
   "execution_count": 24,
   "metadata": {
    "ExecuteTime": {
     "end_time": "2020-05-20T07:08:23.735445Z",
     "start_time": "2020-05-20T07:08:22.881652Z"
    }
   },
   "outputs": [],
   "source": [
    "rfor_tuned = RandomForestClassifier(n_jobs=-1, criterion=best_rfor[0], max_depth=best_rfor[1], max_leaf_nodes=best_rfor[2], \n",
    "                                    min_samples_leaf=best_rfor[3], min_samples_split=best_rfor[4], n_estimators=best_rfor[5])\n",
    "rfor_tuned.fit(X_train,y_train)\n",
    "rfor_tuned_pred = rfor_tuned.predict(X_test)\n",
    "rfor_tuned_acc = round(metrics.accuracy_score(y_test, rfor_tuned_pred)*100, 2)"
   ]
  },
  {
   "cell_type": "markdown",
   "metadata": {
    "variables": {
     "rfor_tuned_acc": "73.62"
    }
   },
   "source": [
    "We did improve upon our accuracy by increasing it to {{rfor_tuned_acc}}%. This is what we will be using to predict the final results."
   ]
  },
  {
   "cell_type": "markdown",
   "metadata": {},
   "source": [
    "<a id='GBM'></a>\n",
    "## Gradient Boosting Machine"
   ]
  },
  {
   "cell_type": "markdown",
   "metadata": {},
   "source": [
    "We will once again follow the same process. Take the default function parameters and then find the best options to tune the hyperparameters. Below is the default function. One default we've modified is warm_start to True rather than False. This helped with the GridSearchCV by allowing the calculations to reuse the solution of a previous call to fit and add more estimators to the ensemble. With the amount of calculations needed, not doing so was taking a lot of time.\n"
   ]
  },
  {
   "cell_type": "code",
   "execution_count": 25,
   "metadata": {
    "ExecuteTime": {
     "end_time": "2020-05-20T07:08:29.387583Z",
     "start_time": "2020-05-20T07:08:23.750442Z"
    }
   },
   "outputs": [],
   "source": [
    "gbc = GradientBoostingClassifier(random_state=1,warm_start=True)\n",
    "gbc.fit(X_train,y_train)\n",
    "gbc_pred = gbc.predict(X_test)\n",
    "gbc_default_acc = round(metrics.accuracy_score(y_test, gbc_pred)*100, 2)"
   ]
  },
  {
   "cell_type": "markdown",
   "metadata": {
    "variables": {
     "gbc_default_acc": "73.68"
    }
   },
   "source": [
    "The default accuracy shown here is {{gbc_default_acc}}%. Let's see how much we can improve that by tuning our hyperparameters. We will use a similar process as the K Nearest Neighbors by finding the best numbers for each hyperparameter and combining them.  \n",
    "\n",
    "Due to constraints on my PC system, I'm unable to use the same length as previous. Dropped the length to 15. "
   ]
  },
  {
   "cell_type": "code",
   "execution_count": 26,
   "metadata": {
    "ExecuteTime": {
     "end_time": "2020-05-20T07:58:45.006605Z",
     "start_time": "2020-05-20T07:08:29.402576Z"
    }
   },
   "outputs": [],
   "source": [
    "#n_estimators, max_depth, min_samples_split, min_samples_leaf, max_leaf_nodes\n",
    "#Generating a count that we can use to adjust the ranges \n",
    "counter = pd.array(range(30,45))\n",
    "#creating a dataframe to hold the results\n",
    "df = pd.DataFrame({'Counts': counter })\n",
    "\n",
    "#array to hold the values to put into the dataframe\n",
    "tableCheck = []\n",
    "\n",
    "#max depth\n",
    "# print(\"max_depth\")\n",
    "for i in counter:\n",
    "    clf2 = GradientBoostingClassifier(max_depth=i,warm_start=True)\n",
    "    clf2.fit(X_train, y_train)\n",
    "    y_pred = clf2.predict(X_test)\n",
    "    y_pred = np.where(y_pred==True, 1, 0)\n",
    "    tableCheck.append(round(metrics.accuracy_score(y_test, y_pred)*100,2))\n",
    "#     #debug code\n",
    "#     if i % 10 == 0: \n",
    "#     print(i)\n",
    "\n",
    "df['Max_Depth'] = tableCheck\n",
    "tableCheck.clear()\n",
    "\n",
    "#max_leaf_nodes\n",
    "# print(\"max_leaf_nodes\")\n",
    "for i in counter:\n",
    "    if i > 1:\n",
    "        clf2 = GradientBoostingClassifier(max_leaf_nodes=i,warm_start=True)\n",
    "        clf2.fit(X_train, y_train)\n",
    "        y_pred = clf2.predict(X_test)\n",
    "        y_pred = np.where(y_pred==True, 1, 0)\n",
    "        tableCheck.append(round(metrics.accuracy_score(y_test, y_pred)*100,2))\n",
    "    else:\n",
    "        tableCheck.append(np.NaN)\n",
    "#     #debug code\n",
    "#     if i % 10 == 0:\n",
    "#     print(i)\n",
    "        \n",
    "df['max_leaf_nodes'] = tableCheck\n",
    "tableCheck.clear()\n",
    "\n",
    "#min_samples_leaf\n",
    "# print(\"min_samples_leaf\")\n",
    "for i in counter:\n",
    "    clf2 = GradientBoostingClassifier(min_samples_leaf=i,warm_start=True)\n",
    "    clf2.fit(X_train, y_train)\n",
    "    y_pred = clf2.predict(X_test)\n",
    "    y_pred = np.where(y_pred==True, 1, 0)\n",
    "    tableCheck.append(round(metrics.accuracy_score(y_test, y_pred)*100,2))\n",
    "    #debug code\n",
    "#     if i % 10 == 0:\n",
    "#     print(i)\n",
    "        \n",
    "df['min_samples_leaf'] = tableCheck\n",
    "tableCheck.clear()\n",
    "\n",
    "#min_samples_split\n",
    "# print(\"min_samples_split\")\n",
    "for i in counter:\n",
    "    if i > 1:\n",
    "        clf2 = GradientBoostingClassifier(min_samples_split=i,warm_start=True)\n",
    "        clf2.fit(X_train, y_train)\n",
    "        y_pred = clf2.predict(X_test)\n",
    "        y_pred = np.where(y_pred==True, 1, 0)\n",
    "        tableCheck.append(round(metrics.accuracy_score(y_test, y_pred)*100,2))\n",
    "    else:\n",
    "        tableCheck.append(np.NaN)\n",
    "    #debug code\n",
    "#     if i % 10 == 0:\n",
    "#     print(i)\n",
    "        \n",
    "df['min_samples_split'] = tableCheck\n",
    "tableCheck.clear()\n",
    "\n",
    "#min_samples_leaf\n",
    "# print(\"n_estimators\")\n",
    "for i in counter:\n",
    "    clf2 = GradientBoostingClassifier(n_estimators=i,warm_start=True)\n",
    "    clf2.fit(X_train, y_train)\n",
    "    y_pred = clf2.predict(X_test)\n",
    "    y_pred = np.where(y_pred==True, 1, 0)\n",
    "    tableCheck.append(round(metrics.accuracy_score(y_test, y_pred)*100,2))\n",
    "    #debug code\n",
    "#     if i % 10 == 0:\n",
    "#     print(i)\n",
    "        \n",
    "df['n_estimators'] = tableCheck\n",
    "tableCheck.clear()"
   ]
  },
  {
   "cell_type": "markdown",
   "metadata": {},
   "source": [
    "Let's take another visual look at the accuracies of these values. "
   ]
  },
  {
   "cell_type": "code",
   "execution_count": 27,
   "metadata": {
    "ExecuteTime": {
     "end_time": "2020-05-20T07:58:45.589132Z",
     "start_time": "2020-05-20T07:58:45.009624Z"
    }
   },
   "outputs": [
    {
     "data": {
      "image/png": "[encoded data removed]",
      "text/plain": [
       "<Figure size 1080x576 with 1 Axes>"
      ]
     },
     "metadata": {
      "needs_background": "light"
     },
     "output_type": "display_data"
    }
   ],
   "source": [
    "df = df.drop(columns='Counts')\n",
    "g = df.plot.line(figsize=(15,8),title=\"Gradient Boosting Classifier Accuracies over 30-45 Values\", grid=True);\n",
    "g.set_xlabel(\"Hyperparameter Values\")\n",
    "g.set_ylabel(\"Accuracy\")\n",
    "g.yaxis.set_major_formatter(mtick.PercentFormatter())"
   ]
  },
  {
   "cell_type": "markdown",
   "metadata": {},
   "source": [
    "Now we will collect the top five of each single hyperparameter and use those as the parameter grid and do a GridSearchCV to determine the best hyperparameters to use in combination. "
   ]
  },
  {
   "cell_type": "code",
   "execution_count": 28,
   "metadata": {
    "ExecuteTime": {
     "end_time": "2020-05-20T08:24:09.326517Z",
     "start_time": "2020-05-20T07:58:45.592135Z"
    }
   },
   "outputs": [
    {
     "name": "stdout",
     "output_type": "stream",
     "text": [
      "Accuracy: 73.04%\n",
      "Hyperparameter: criterion; Value: mse\n",
      "Hyperparameter: max_depth; Value: 8\n",
      "Hyperparameter: max_leaf_nodes; Value: 10\n",
      "Hyperparameter: min_samples_leaf; Value: 10\n",
      "Hyperparameter: min_samples_split; Value: 2\n",
      "Hyperparameter: n_estimators; Value: 14\n"
     ]
    }
   ],
   "source": [
    "maxDepth = df['Max_Depth'].nlargest(5).index.values.tolist()\n",
    "maxLeafNodes = df['max_leaf_nodes'].nlargest(5).index.values.tolist()\n",
    "minSamplesLeaf = df['min_samples_leaf'].nlargest(5).index.values.tolist()\n",
    "minSamplesSplit = df['min_samples_split'].nlargest(5).index.values.tolist()\n",
    "n_estimators = df['n_estimators'].nlargest(5).index.values.tolist()\n",
    "\n",
    "#since the index are 0 based, we need to add 1 to get the proper values used\n",
    "maxDepth = np.array(maxDepth) + 1\n",
    "maxLeafNodes = np.array(maxLeafNodes) + 1\n",
    "minSamplesLeaf = np.array(minSamplesLeaf) + 1\n",
    "minSamplesSplit = np.array(minSamplesSplit) + 1\n",
    "n_estimators = np.array(n_estimators) + 1\n",
    "\n",
    "param_grid = {'criterion': ['mse','friedman_mse'],\n",
    "  'min_samples_split': minSamplesSplit,\n",
    "  'max_depth': maxDepth,\n",
    "  'min_samples_leaf': minSamplesLeaf,\n",
    "  'max_leaf_nodes': maxLeafNodes,\n",
    "  'n_estimators': n_estimators}\n",
    "grid = GridSearchCV(gbc, param_grid, cv=5,n_jobs=-1)\n",
    "grid.fit(X_train, y_train)\n",
    "\n",
    "\n",
    "print(f\"Accuracy: {round(grid.best_score_*100, 2)}%\")\n",
    "for key, value in grid.best_params_.items():\n",
    "  print(f\"Hyperparameter: {key}; Value: {value}\")"
   ]
  },
  {
   "cell_type": "markdown",
   "metadata": {},
   "source": [
    "Let's save these values as variables so that we can reaccess their information if anything changes as we rerun our code. "
   ]
  },
  {
   "cell_type": "code",
   "execution_count": 29,
   "metadata": {
    "ExecuteTime": {
     "end_time": "2020-05-20T08:24:09.334507Z",
     "start_time": "2020-05-20T08:24:09.329502Z"
    }
   },
   "outputs": [],
   "source": [
    "best_gbc = []\n",
    "for key, value in grid.best_params_.items():\n",
    "    best_gbc.append(value)"
   ]
  },
  {
   "cell_type": "code",
   "execution_count": 30,
   "metadata": {
    "ExecuteTime": {
     "end_time": "2020-05-20T08:24:09.924059Z",
     "start_time": "2020-05-20T08:24:09.337510Z"
    }
   },
   "outputs": [],
   "source": [
    "gbc_tuned = GradientBoostingClassifier(random_state=1, criterion=best_gbc[0], min_samples_split=best_gbc[1], \n",
    "                                       max_depth=best_gbc[2],\n",
    "                          min_samples_leaf=best_gbc[3], max_leaf_nodes=best_gbc[4], n_estimators=best_gbc[5])\n",
    "gbc_tuned.fit(X_train,y_train)\n",
    "gbc_tuned_pred = gbc_tuned.predict(X_test)\n",
    "gbc_tuned_acc = round(metrics.accuracy_score(y_test, gbc_tuned_pred)*100, 2)"
   ]
  },
  {
   "cell_type": "markdown",
   "metadata": {
    "variables": {
     "gbc_tuned_acc": "71.51"
    }
   },
   "source": [
    "With our lowered settings, our tuned hyperparameter values turned out to be lower at {{gbc_tuned_acc}}%. We will use the default values for our predictions."
   ]
  },
  {
   "cell_type": "markdown",
   "metadata": {
    "ExecuteTime": {
     "end_time": "2020-05-18T01:56:05.820202Z",
     "start_time": "2020-05-18T00:04:06.474Z"
    }
   },
   "source": [
    "<a id='Predict'></a>\n",
    "## Predictions"
   ]
  },
  {
   "cell_type": "markdown",
   "metadata": {},
   "source": [
    "Now we will run our tuned algorithms to predict the classifier. We will do it for each algorithm, combine them into a dataframe and export that dataframe into a csv. "
   ]
  },
  {
   "cell_type": "markdown",
   "metadata": {},
   "source": [
    "Let's do some slight data cleaning first by changing the column names again. Then we will modify the categorical into numerical data just like we did for the training data."
   ]
  },
  {
   "cell_type": "code",
   "execution_count": 31,
   "metadata": {
    "ExecuteTime": {
     "end_time": "2020-05-20T08:24:10.007135Z",
     "start_time": "2020-05-20T08:24:09.927062Z"
    }
   },
   "outputs": [],
   "source": [
    "test = pd.read_csv('Disease Prediction Testing.csv')"
   ]
  },
  {
   "cell_type": "code",
   "execution_count": 32,
   "metadata": {
    "ExecuteTime": {
     "end_time": "2020-05-20T08:24:10.019131Z",
     "start_time": "2020-05-20T08:24:10.010120Z"
    }
   },
   "outputs": [],
   "source": [
    "test.rename(columns={'High Blood Pressure':'HighBloodPressure',\n",
    "                    'Low Blood Pressure':'LowBloodPressure'},\n",
    "           inplace=True)"
   ]
  },
  {
   "cell_type": "code",
   "execution_count": 33,
   "metadata": {
    "ExecuteTime": {
     "end_time": "2020-05-20T08:24:10.107226Z",
     "start_time": "2020-05-20T08:24:10.023135Z"
    }
   },
   "outputs": [],
   "source": [
    "#female set to 0 and male set to 1\n",
    "test = test.replace('female',0)\n",
    "test = test.replace('male', 1)\n",
    "#normal 0, high 1, too high 2\n",
    "test = test.replace('normal',0)\n",
    "test = test.replace('too high',2)\n",
    "test = test.replace('high',1)"
   ]
  },
  {
   "cell_type": "markdown",
   "metadata": {},
   "source": [
    "Now we need to drop the ID columns so that it matches the column length of our previous data. We will move the ID column to our final dataframe. "
   ]
  },
  {
   "cell_type": "code",
   "execution_count": 34,
   "metadata": {
    "ExecuteTime": {
     "end_time": "2020-05-20T08:24:10.131248Z",
     "start_time": "2020-05-20T08:24:10.110211Z"
    }
   },
   "outputs": [],
   "source": [
    "final = pd.DataFrame()\n",
    "final['ID'] = test['ID']\n",
    "test = test.drop(columns=['ID'])"
   ]
  },
  {
   "cell_type": "markdown",
   "metadata": {},
   "source": [
    "Now let's run all the predictions on our test dataframe and store the results."
   ]
  },
  {
   "cell_type": "code",
   "execution_count": 35,
   "metadata": {
    "ExecuteTime": {
     "end_time": "2020-05-20T08:24:14.343286Z",
     "start_time": "2020-05-20T08:24:10.135234Z"
    }
   },
   "outputs": [],
   "source": [
    "NBCResults = gnbp.predict(test)\n",
    "KNNResults = neigh_tuned.predict(test)\n",
    "RanForResults = rfor_tuned.predict(test)\n",
    "GBMResults = gbc_tuned.predict(test)"
   ]
  },
  {
   "cell_type": "markdown",
   "metadata": {},
   "source": [
    "Finally, we move the results into our final dataframe and export it to csv for submission. "
   ]
  },
  {
   "cell_type": "code",
   "execution_count": 36,
   "metadata": {
    "ExecuteTime": {
     "end_time": "2020-05-20T08:24:14.455388Z",
     "start_time": "2020-05-20T08:24:14.346272Z"
    }
   },
   "outputs": [],
   "source": [
    "final['NBC'] = NBCResults\n",
    "final['KNN'] = KNNResults\n",
    "final['RF'] = RanForResults\n",
    "final['GPM'] = GBMResults\n",
    "\n",
    "final.to_csv('Prediction_Results.csv', index=False)"
   ]
  },
  {
   "cell_type": "markdown",
   "metadata": {},
   "source": [
    "<a id='Conclusion'></a>\n",
    "## Conclusion"
   ]
  },
  {
   "cell_type": "markdown",
   "metadata": {
    "variables": {
     "best_neigh[0]": "9",
     "best_neigh[1]": "99",
     "best_rfor[0]": "gini",
     "best_rfor[1]": "13",
     "best_rfor[2]": "86",
     "best_rfor[3]": "18",
     "best_rfor[4]": "94",
     "best_rfor[5]": "97",
     "bnb_acc": "59.01",
     "gbc_default_acc": "73.68",
     "gnb_acc": "71.09",
     "mnb_acc": "71.11"
    }
   },
   "source": [
    "While running all of these algorithms, we received the below accuracies with the best parameters that we found for each item. \n",
    "\n",
    "| Method | Accuracy | Hyperparameters | \n",
    "| --- | --- | --- |\n",
    "| Guassian Naive Bayes | {{gnb_acc}}% | None |\n",
    "| K Nearest Neighbor | {{bnb_acc}}% | leaf_size {{best_neigh[0]}}, n_neighbors= {{best_neigh[1]}} |\n",
    "| Random Forest | {{mnb_acc}}% | criterion={{best_rfor[0]}}, max_depth={{best_rfor[1]}}, max_leaf_nodes={{best_rfor[2]}}, min_samples_leaf={{best_rfor[3]}}, min_samples_split={{best_rfor[4]}}, n_estimators={{best_rfor[5]}} |\n",
    "| Gradient Boosting | {{gbc_default_acc}}% | Default Values |\n",
    "\n",
    "\n",
    "Each of these will be used to generate predictions on the dataset to determine whether or not a patient has the disease. "
   ]
  },
  {
   "cell_type": "code",
   "execution_count": null,
   "metadata": {},
   "outputs": [],
   "source": []
  }
 ],
 "metadata": {
  "kernelspec": {
   "display_name": "Python 3",
   "language": "python",
   "name": "python3"
  },
  "language_info": {
   "codemirror_mode": {
    "name": "ipython",
    "version": 3
   },
   "file_extension": ".py",
   "mimetype": "text/x-python",
   "name": "python",
   "nbconvert_exporter": "python",
   "pygments_lexer": "ipython3",
   "version": "3.7.6"
  }
 },
 "nbformat": 4,
 "nbformat_minor": 4
}
